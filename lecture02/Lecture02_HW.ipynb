{
 "cells": [
  {
   "cell_type": "markdown",
   "metadata": {},
   "source": [
    "# Задачи к Лекции 2\n",
    "\n",
    "__Исходные данные__ \n",
    "\n",
    "Дан файл **\"mlbootcamp5_train.csv\"**. В нем содержатся данные об опросе 70000 пациентов с целью определения наличия заболеваний сердечно-сосудистой системы (ССЗ). Данные в файле промаркированы и если у человека имееются ССЗ, то значение **cardio** будет равно 1, в противном случае - 0. Описание и значения полей представлены во второй лекции.\n",
    "\n",
    "__Загрузка файла__"
   ]
  },
  {
   "cell_type": "code",
   "execution_count": 1,
   "metadata": {},
   "outputs": [
    {
     "data": {
      "text/html": [
       "<div>\n",
       "<style scoped>\n",
       "    .dataframe tbody tr th:only-of-type {\n",
       "        vertical-align: middle;\n",
       "    }\n",
       "\n",
       "    .dataframe tbody tr th {\n",
       "        vertical-align: top;\n",
       "    }\n",
       "\n",
       "    .dataframe thead th {\n",
       "        text-align: right;\n",
       "    }\n",
       "</style>\n",
       "<table border=\"1\" class=\"dataframe\">\n",
       "  <thead>\n",
       "    <tr style=\"text-align: right;\">\n",
       "      <th></th>\n",
       "      <th>age</th>\n",
       "      <th>gender</th>\n",
       "      <th>height</th>\n",
       "      <th>weight</th>\n",
       "      <th>ap_hi</th>\n",
       "      <th>ap_lo</th>\n",
       "      <th>cholesterol</th>\n",
       "      <th>gluc</th>\n",
       "      <th>smoke</th>\n",
       "      <th>alco</th>\n",
       "      <th>active</th>\n",
       "      <th>cardio</th>\n",
       "    </tr>\n",
       "  </thead>\n",
       "  <tbody>\n",
       "    <tr>\n",
       "      <th>max</th>\n",
       "      <td>23713</td>\n",
       "      <td>2</td>\n",
       "      <td>250</td>\n",
       "      <td>200.0</td>\n",
       "      <td>16020</td>\n",
       "      <td>11000</td>\n",
       "      <td>3</td>\n",
       "      <td>3</td>\n",
       "      <td>1</td>\n",
       "      <td>1</td>\n",
       "      <td>1</td>\n",
       "      <td>1</td>\n",
       "    </tr>\n",
       "    <tr>\n",
       "      <th>min</th>\n",
       "      <td>10798</td>\n",
       "      <td>1</td>\n",
       "      <td>55</td>\n",
       "      <td>10.0</td>\n",
       "      <td>-150</td>\n",
       "      <td>-70</td>\n",
       "      <td>1</td>\n",
       "      <td>1</td>\n",
       "      <td>0</td>\n",
       "      <td>0</td>\n",
       "      <td>0</td>\n",
       "      <td>0</td>\n",
       "    </tr>\n",
       "  </tbody>\n",
       "</table>\n",
       "</div>"
      ],
      "text/plain": [
       "       age  gender  height  weight  ap_hi  ap_lo  cholesterol  gluc  smoke  \\\n",
       "max  23713       2     250   200.0  16020  11000            3     3      1   \n",
       "min  10798       1      55    10.0   -150    -70            1     1      0   \n",
       "\n",
       "     alco  active  cardio  \n",
       "max     1       1       1  \n",
       "min     0       0       0  "
      ]
     },
     "execution_count": 1,
     "metadata": {},
     "output_type": "execute_result"
    }
   ],
   "source": [
    "%matplotlib inline\n",
    "import itertools\n",
    "import numpy as np\n",
    "import pandas as pd\n",
    "import seaborn as sns\n",
    "import sklearn\n",
    "from matplotlib import pyplot as plt\n",
    "import warnings\n",
    "from sklearn.naive_bayes import GaussianNB\n",
    "from sklearn.naive_bayes import BernoulliNB\n",
    "from sklearn.metrics import confusion_matrix\n",
    "warnings.filterwarnings('ignore')\n",
    "\n",
    "df = pd.read_csv(\"../data/mlbootcamp5_train.csv\", \n",
    "                 sep=\";\", \n",
    "                 index_col=\"id\")\n",
    "df = df.sort_values('id')\n",
    "df = df.dropna(subset=['age','gender','height','weight','ap_hi','ap_lo','cholesterol','gluc','smoke','alco','active']).sort_values('id')\n",
    "#df.head()\n",
    "df.agg(['max', 'min'])"
   ]
  },
  {
   "cell_type": "markdown",
   "metadata": {},
   "source": [
    "## Задачи"
   ]
  },
  {
   "cell_type": "markdown",
   "metadata": {},
   "source": [
    "**1. Построить наивный байесовский классификатор для количественных полей age, height, weight, ap_hi, ap_lo. Исправить данные, если это необходимо. Привести матрицу неточностей и сравнить со значением полученным в ходе лекции. Попытаться объяснить разницу.**"
   ]
  },
  {
   "cell_type": "code",
   "execution_count": 2,
   "metadata": {},
   "outputs": [
    {
     "name": "stdout",
     "output_type": "stream",
     "text": [
      "67498 0.7051764496725829\n"
     ]
    },
    {
     "data": {
      "image/png": "[encoded data removed]",
      "text/plain": [
       "<Figure size 432x288 with 1 Axes>"
      ]
     },
     "metadata": {
      "needs_background": "light"
     },
     "output_type": "display_data"
    },
    {
     "data": {
      "image/png": "[encoded data removed]",
      "text/plain": [
       "<Figure size 432x288 with 2 Axes>"
      ]
     },
     "metadata": {
      "needs_background": "light"
     },
     "output_type": "display_data"
    }
   ],
   "source": [
    "gnb = GaussianNB()\n",
    "#df.agg(['max', 'min'])\n",
    "data = df[(df[\"ap_hi\"] >= 100) &\n",
    "          (df[\"ap_hi\"] <= 200) &\n",
    "          (df[\"ap_lo\"] >= 50) & \n",
    "          (df[\"ap_lo\"] <= 150) &\n",
    "          (df[\"weight\"] >= 40)\n",
    "         ].dropna(subset=['age', 'height', 'weight', 'ap_hi', 'ap_lo'])\n",
    "#data.agg(['max', 'min'])\n",
    "#data[data[\"cardio\"] == 1][[\"age\",\"height\",\"weight\", \"ap_hi\", \"ap_lo\"]].hist(bins=50)\n",
    "#plt.tight_layout()\n",
    "train = data[[\"age\", \"height\", \"weight\", \"ap_hi\", \"ap_lo\"]]#,\"cholesterol\",\"gluc\",\"smoke\",\"alco\",\"active\"]]\n",
    "target = data[\"cardio\"]\n",
    "\n",
    "model = gnb.fit(train, target)\n",
    "predict_num = model.predict(train)\n",
    "print(data.shape[0],\n",
    "     (target == predict_num).sum() / data.shape[0])\n",
    "\n",
    "predict_num\n",
    "#print (predict_num)\n",
    "model.predict(train[1:2]), model.predict_proba(train[1:2])\n",
    "\n",
    "prob = model.predict_proba(train)[:,1]\n",
    "\n",
    "plt.hist(prob[target == 1], bins=np.linspace(0, 1, 50), alpha=0.5, label=\"1\");\n",
    "plt.hist(prob[target == 0], bins=np.linspace(0, 1, 50), alpha=0.5, label=\"0\");\n",
    "plt.axvline(0.5)\n",
    "plt.legend();\n",
    "\n",
    "cnf_matrix = confusion_matrix(target, predict_num)\n",
    "\n",
    "class_names = [\"Здоров\", \"Болен\"]\n",
    "def plot_confusion_matrix(cm, classes, normalize=False, title='Матрица неточностей', cmap=plt.cm.Blues):    \n",
    "    if normalize:\n",
    "        cm = cm.astype('float') / cm.sum(axis=1)[:, np.newaxis]\n",
    "    plt.imshow(cm, interpolation='nearest', cmap=cmap)\n",
    "    plt.title(title)\n",
    "    plt.colorbar()\n",
    "    tick_marks = np.arange(len(classes))\n",
    "    plt.xticks(tick_marks, classes, rotation=45)\n",
    "    plt.yticks(tick_marks, classes)\n",
    "    fmt = '.4f' if normalize else 'd'\n",
    "    thresh = cm.min() + (cm.max() - cm.min()) * 2 / 3.\n",
    "    for i, j in itertools.product(range(cm.shape[0]), range(cm.shape[1])):\n",
    "        plt.text(j, i, format(cm[i, j], fmt),\n",
    "                 horizontalalignment=\"center\",\n",
    "                 color=\"white\" if cm[i, j] > thresh else \"black\")\n",
    "    plt.ylabel('Истина')\n",
    "    plt.xlabel('Предсказание')\n",
    "    plt.tight_layout()\n",
    "\n",
    "plt.figure()\n",
    "plot_confusion_matrix(cnf_matrix, classes=class_names, normalize=True,                      \n",
    "                      title='Матрица неточностей, нормализована')\n",
    "plt.show()"
   ]
  },
  {
   "cell_type": "markdown",
   "metadata": {},
   "source": [
    "**Комментарии:** Ваши комментарии здесь."
   ]
  },
  {
   "cell_type": "markdown",
   "metadata": {},
   "source": [
    "**2. Написать свой наивный байесовский классификатор для категориальных полей cholesterol, gluc. Привести матрицу неточностей и сравнить со значениями из задачи 1 (нельзя использовать готовое решение из sklearn) (не обязательно)**"
   ]
  },
  {
   "cell_type": "code",
   "execution_count": 3,
   "metadata": {},
   "outputs": [
    {
     "name": "stdout",
     "output_type": "stream",
     "text": [
      "67498 0.5897804379389019\n"
     ]
    },
    {
     "data": {
      "image/png": "[encoded data removed]",
      "text/plain": [
       "<Figure size 432x288 with 1 Axes>"
      ]
     },
     "metadata": {
      "needs_background": "light"
     },
     "output_type": "display_data"
    },
    {
     "data": {
      "image/png": "[encoded data removed]",
      "text/plain": [
       "<Figure size 432x288 with 2 Axes>"
      ]
     },
     "metadata": {
      "needs_background": "light"
     },
     "output_type": "display_data"
    }
   ],
   "source": [
    "data = df[(df[\"ap_hi\"] >= 100) &\n",
    "          (df[\"ap_hi\"] <= 200) &\n",
    "          (df[\"ap_lo\"] >= 50) & \n",
    "          (df[\"ap_lo\"] <= 150) &\n",
    "          (df[\"weight\"] >= 40)\n",
    "         ].dropna(subset=['cholesterol', 'gluc'])\n",
    "\n",
    "\n",
    "train = data[['cholesterol', 'gluc']]\n",
    "target = data[\"cardio\"]\n",
    "\n",
    "onehot = pd.DataFrame()\n",
    "\n",
    "for column in train.columns:\n",
    "    for value in train[column].unique():\n",
    "        onehot[column + str(value)] = train[column] == value\n",
    "        \n",
    "bnb = BernoulliNB()\n",
    "bnb.fit(onehot, target)\n",
    "predict_cat = bnb.predict(onehot)\n",
    "print(data.shape[0],\n",
    "     (target == predict_cat).sum() / data.shape[0]) \n",
    "#print(predict_cat)\n",
    "\n",
    "prob = bnb.predict_proba(onehot)[:,1]\n",
    "\n",
    "plt.hist(prob[target == 1], bins=np.linspace(0, 1, 50), alpha=0.5, label=\"1\");\n",
    "plt.hist(prob[target == 0], bins=np.linspace(0, 1, 50), alpha=0.5, label=\"0\");\n",
    "plt.axvline(0.5)\n",
    "plt.legend();\n",
    "\n",
    "cnf_matrix = confusion_matrix(target, predict_cat)\n",
    "\n",
    "class_names = [\"Здоров\", \"Болен\"]\n",
    "def plot_confusion_matrix(cm, classes, normalize=False, title='Матрица неточностей', cmap=plt.cm.Blues):    \n",
    "    if normalize:\n",
    "        cm = cm.astype('float') / cm.sum(axis=1)[:, np.newaxis]\n",
    "    plt.imshow(cm, interpolation='nearest', cmap=cmap)\n",
    "    plt.title(title)\n",
    "    plt.colorbar()\n",
    "    tick_marks = np.arange(len(classes))\n",
    "    plt.xticks(tick_marks, classes, rotation=45)\n",
    "    plt.yticks(tick_marks, classes)\n",
    "    fmt = '.4f' if normalize else 'd'\n",
    "    thresh = cm.min() + (cm.max() - cm.min()) * 2 / 3.\n",
    "    for i, j in itertools.product(range(cm.shape[0]), range(cm.shape[1])):\n",
    "        plt.text(j, i, format(cm[i, j], fmt),\n",
    "                 horizontalalignment=\"center\",\n",
    "                 color=\"white\" if cm[i, j] > thresh else \"black\")\n",
    "    plt.ylabel('Истина')\n",
    "    plt.xlabel('Предсказание')\n",
    "    plt.tight_layout()\n",
    "\n",
    "plt.figure()\n",
    "plot_confusion_matrix(cnf_matrix, classes=class_names, normalize=True,                      \n",
    "                      title='Матрица неточностей, нормализована')\n",
    "plt.show()\n"
   ]
  },
  {
   "cell_type": "markdown",
   "metadata": {},
   "source": [
    "**Комментарии:** Ваши комментарии здесь."
   ]
  },
  {
   "cell_type": "markdown",
   "metadata": {},
   "source": [
    "**3. Построить наивный байесовский классификатор для бинарных полей gender, smoke, alco, active. Привести матрицу неточностей и сравнить с предыдущими значениями.**"
   ]
  },
  {
   "cell_type": "code",
   "execution_count": 4,
   "metadata": {},
   "outputs": [
    {
     "name": "stdout",
     "output_type": "stream",
     "text": [
      "67498 0.514548579217162\n"
     ]
    },
    {
     "data": {
      "image/png": "[encoded data removed]",
      "text/plain": [
       "<Figure size 432x288 with 1 Axes>"
      ]
     },
     "metadata": {
      "needs_background": "light"
     },
     "output_type": "display_data"
    },
    {
     "data": {
      "image/png": "[encoded data removed]",
      "text/plain": [
       "<Figure size 432x288 with 2 Axes>"
      ]
     },
     "metadata": {
      "needs_background": "light"
     },
     "output_type": "display_data"
    }
   ],
   "source": [
    "data = df[(df[\"ap_hi\"] >= 100) &\n",
    "          (df[\"ap_hi\"] <= 200) &\n",
    "          (df[\"ap_lo\"] >= 50) & \n",
    "          (df[\"ap_lo\"] <= 150) &\n",
    "          (df[\"weight\"] >= 40)\n",
    "         ].dropna(subset=['gender', 'smoke', 'alco', 'active'])\n",
    "\n",
    "bnb = BernoulliNB()\n",
    "\n",
    "train = data[[ 'gender', 'smoke', 'alco', 'active']]\n",
    "target = data['cardio']\n",
    "\n",
    "bnb = BernoulliNB()\n",
    "bnb.fit(train, target)\n",
    "predict_bin = bnb.predict(train)\n",
    "print(data.shape[0],\n",
    "     (target == predict_bin).sum() / data.shape[0]) \n",
    "#print(predict_bin)\n",
    "\n",
    "prob = bnb.predict_proba(train)[:,1]\n",
    "\n",
    "plt.hist(prob[target == 1], bins=np.linspace(0, 1, 50), alpha=0.5, label=\"1\");\n",
    "plt.hist(prob[target == 0], bins=np.linspace(0, 1, 50), alpha=0.5, label=\"0\");\n",
    "plt.axvline(0.5)\n",
    "plt.legend();\n",
    "\n",
    "cnf_matrix = confusion_matrix(target, predict_bin)\n",
    "\n",
    "class_names = [\"Здоров\", \"Болен\"]\n",
    "def plot_confusion_matrix(cm, classes, normalize=False, title='Матрица неточностей', cmap=plt.cm.Blues):    \n",
    "    if normalize:\n",
    "        cm = cm.astype('float') / cm.sum(axis=1)[:, np.newaxis]\n",
    "    plt.imshow(cm, interpolation='nearest', cmap=cmap)\n",
    "    plt.title(title)\n",
    "    plt.colorbar()\n",
    "    tick_marks = np.arange(len(classes))\n",
    "    plt.xticks(tick_marks, classes, rotation=45)\n",
    "    plt.yticks(tick_marks, classes)\n",
    "    fmt = '.4f' if normalize else 'd'\n",
    "    thresh = cm.min() + (cm.max() - cm.min()) * 2 / 3.\n",
    "    for i, j in itertools.product(range(cm.shape[0]), range(cm.shape[1])):\n",
    "        plt.text(j, i, format(cm[i, j], fmt),\n",
    "                 horizontalalignment=\"center\",\n",
    "                 color=\"white\" if cm[i, j] > thresh else \"black\")\n",
    "    plt.ylabel('Истина')\n",
    "    plt.xlabel('Предсказание')\n",
    "    plt.tight_layout()\n",
    "\n",
    "plt.figure()\n",
    "plot_confusion_matrix(cnf_matrix, classes=class_names, normalize=True,                      \n",
    "                      title='Матрица неточностей, нормализована')\n",
    "plt.show()"
   ]
  },
  {
   "cell_type": "markdown",
   "metadata": {},
   "source": [
    "**Комментарии:** Ваши комментарии здесь."
   ]
  },
  {
   "cell_type": "markdown",
   "metadata": {},
   "source": [
    "**4. К этому моменту у вас есть три независимых классификатора: по количественным полям, категориальным и бинарным. Придумать, как их объединить в один единый классификатор, который учитывает все эти поля. Привести матрицу неточностей для него и сравнить с предыдущими значениями. Попытаться объяснить разницу.**"
   ]
  },
  {
   "cell_type": "code",
   "execution_count": 5,
   "metadata": {},
   "outputs": [
    {
     "name": "stdout",
     "output_type": "stream",
     "text": [
      "67498 0.6206109810661057\n"
     ]
    },
    {
     "data": {
      "image/png": "[encoded data removed]",
      "text/plain": [
       "<Figure size 432x288 with 1 Axes>"
      ]
     },
     "metadata": {
      "needs_background": "light"
     },
     "output_type": "display_data"
    },
    {
     "data": {
      "image/png": "[encoded data removed]",
      "text/plain": [
       "<Figure size 432x288 with 2 Axes>"
      ]
     },
     "metadata": {
      "needs_background": "light"
     },
     "output_type": "display_data"
    }
   ],
   "source": [
    "predict_all = ((predict_num + predict_cat + predict_bin)/3).round().astype(int)\n",
    "predict_all\n",
    "\n",
    "target = data['cardio']\n",
    "\n",
    "print(data.shape[0],\n",
    "     (target == predict_all).sum() / data.shape[0]) \n",
    "\n",
    "prob = bnb.predict_proba(train)[:,1]\n",
    "\n",
    "plt.hist(prob[target == 1], bins=np.linspace(0, 1, 50), alpha=0.5, label=\"1\");\n",
    "plt.hist(prob[target == 0], bins=np.linspace(0, 1, 50), alpha=0.5, label=\"0\");\n",
    "plt.axvline(0.5)\n",
    "plt.legend();\n",
    "\n",
    "cnf_matrix = confusion_matrix(target, predict_all)\n",
    "\n",
    "class_names = [\"Здоров\", \"Болен\"]\n",
    "def plot_confusion_matrix(cm, classes, normalize=False, title='Матрица неточностей', cmap=plt.cm.Blues):    \n",
    "    if normalize:\n",
    "        cm = cm.astype('float') / cm.sum(axis=1)[:, np.newaxis]\n",
    "    plt.imshow(cm, interpolation='nearest', cmap=cmap)\n",
    "    plt.title(title)\n",
    "    plt.colorbar()\n",
    "    tick_marks = np.arange(len(classes))\n",
    "    plt.xticks(tick_marks, classes, rotation=45)\n",
    "    plt.yticks(tick_marks, classes)\n",
    "    fmt = '.4f' if normalize else 'd'\n",
    "    thresh = cm.min() + (cm.max() - cm.min()) * 2 / 3.\n",
    "    for i, j in itertools.product(range(cm.shape[0]), range(cm.shape[1])):\n",
    "        plt.text(j, i, format(cm[i, j], fmt),\n",
    "                 horizontalalignment=\"center\",\n",
    "                 color=\"white\" if cm[i, j] > thresh else \"black\")\n",
    "    plt.ylabel('Истина')\n",
    "    plt.xlabel('Предсказание')\n",
    "    plt.tight_layout()\n",
    "\n",
    "plt.figure()\n",
    "plot_confusion_matrix(cnf_matrix, classes=class_names, normalize=True,                      \n",
    "                      title='Матрица неточностей, нормализована')\n",
    "plt.show()"
   ]
  },
  {
   "cell_type": "markdown",
   "metadata": {},
   "source": [
    "**Комментарии:** Ваши комментарии здесь."
   ]
  },
  {
   "cell_type": "markdown",
   "metadata": {},
   "source": [
    "**5. (Не обязательно) Теперь мы умеем делать классификацию в рамках наивного предположения об независимости всех признаков. Сейчас же нужно попробовать учесть взаимосвязь между признаками через условные вероятности. Построить классификатор с учетом такой связи. Сравнить результат с ранее полученными значениями.**"
   ]
  },
  {
   "cell_type": "code",
   "execution_count": 6,
   "metadata": {},
   "outputs": [],
   "source": [
    "# A lot of code here"
   ]
  },
  {
   "cell_type": "markdown",
   "metadata": {},
   "source": [
    "**Комментарии:** Ваши комментарии здесь."
   ]
  },
  {
   "cell_type": "code",
   "execution_count": null,
   "metadata": {},
   "outputs": [],
   "source": []
  }
 ],
 "metadata": {
  "kernelspec": {
   "display_name": "Python 3",
   "language": "python",
   "name": "python3"
  },
  "language_info": {
   "codemirror_mode": {
    "name": "ipython",
    "version": 3
   },
   "file_extension": ".py",
   "mimetype": "text/x-python",
   "name": "python",
   "nbconvert_exporter": "python",
   "pygments_lexer": "ipython3",
   "version": "3.8.5"
  }
 },
 "nbformat": 4,
 "nbformat_minor": 2
}
