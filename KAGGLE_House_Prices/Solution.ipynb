{
 "cells": [
  {
   "cell_type": "code",
   "execution_count": 1,
   "metadata": {},
   "outputs": [],
   "source": [
    "%matplotlib inline\n",
    "import numpy as np\n",
    "import pandas as pd\n",
    "main_train = pd.read_csv(\"train.csv\")\n",
    "main_test = pd.read_csv(\"test.csv\")\n",
    "main_target_link = pd.read_csv(\"sample_submission.csv\")"
   ]
  },
  {
   "cell_type": "code",
   "execution_count": 2,
   "metadata": {},
   "outputs": [
    {
     "data": {
      "text/html": [
       "<div>\n",
       "<style scoped>\n",
       "    .dataframe tbody tr th:only-of-type {\n",
       "        vertical-align: middle;\n",
       "    }\n",
       "\n",
       "    .dataframe tbody tr th {\n",
       "        vertical-align: top;\n",
       "    }\n",
       "\n",
       "    .dataframe thead th {\n",
       "        text-align: right;\n",
       "    }\n",
       "</style>\n",
       "<table border=\"1\" class=\"dataframe\">\n",
       "  <thead>\n",
       "    <tr style=\"text-align: right;\">\n",
       "      <th></th>\n",
       "      <th>Id</th>\n",
       "      <th>MSSubClass</th>\n",
       "      <th>MSZoning</th>\n",
       "      <th>LotFrontage</th>\n",
       "      <th>LotArea</th>\n",
       "      <th>Street</th>\n",
       "      <th>Alley</th>\n",
       "      <th>LotShape</th>\n",
       "      <th>LandContour</th>\n",
       "      <th>Utilities</th>\n",
       "      <th>...</th>\n",
       "      <th>ScreenPorch</th>\n",
       "      <th>PoolArea</th>\n",
       "      <th>PoolQC</th>\n",
       "      <th>Fence</th>\n",
       "      <th>MiscFeature</th>\n",
       "      <th>MiscVal</th>\n",
       "      <th>MoSold</th>\n",
       "      <th>YrSold</th>\n",
       "      <th>SaleType</th>\n",
       "      <th>SaleCondition</th>\n",
       "    </tr>\n",
       "  </thead>\n",
       "  <tbody>\n",
       "    <tr>\n",
       "      <th>0</th>\n",
       "      <td>1461</td>\n",
       "      <td>20</td>\n",
       "      <td>RH</td>\n",
       "      <td>80.0</td>\n",
       "      <td>11622</td>\n",
       "      <td>Pave</td>\n",
       "      <td>NaN</td>\n",
       "      <td>Reg</td>\n",
       "      <td>Lvl</td>\n",
       "      <td>AllPub</td>\n",
       "      <td>...</td>\n",
       "      <td>120</td>\n",
       "      <td>0</td>\n",
       "      <td>NaN</td>\n",
       "      <td>MnPrv</td>\n",
       "      <td>NaN</td>\n",
       "      <td>0</td>\n",
       "      <td>6</td>\n",
       "      <td>2010</td>\n",
       "      <td>WD</td>\n",
       "      <td>Normal</td>\n",
       "    </tr>\n",
       "    <tr>\n",
       "      <th>1</th>\n",
       "      <td>1462</td>\n",
       "      <td>20</td>\n",
       "      <td>RL</td>\n",
       "      <td>81.0</td>\n",
       "      <td>14267</td>\n",
       "      <td>Pave</td>\n",
       "      <td>NaN</td>\n",
       "      <td>IR1</td>\n",
       "      <td>Lvl</td>\n",
       "      <td>AllPub</td>\n",
       "      <td>...</td>\n",
       "      <td>0</td>\n",
       "      <td>0</td>\n",
       "      <td>NaN</td>\n",
       "      <td>NaN</td>\n",
       "      <td>Gar2</td>\n",
       "      <td>12500</td>\n",
       "      <td>6</td>\n",
       "      <td>2010</td>\n",
       "      <td>WD</td>\n",
       "      <td>Normal</td>\n",
       "    </tr>\n",
       "    <tr>\n",
       "      <th>2</th>\n",
       "      <td>1463</td>\n",
       "      <td>60</td>\n",
       "      <td>RL</td>\n",
       "      <td>74.0</td>\n",
       "      <td>13830</td>\n",
       "      <td>Pave</td>\n",
       "      <td>NaN</td>\n",
       "      <td>IR1</td>\n",
       "      <td>Lvl</td>\n",
       "      <td>AllPub</td>\n",
       "      <td>...</td>\n",
       "      <td>0</td>\n",
       "      <td>0</td>\n",
       "      <td>NaN</td>\n",
       "      <td>MnPrv</td>\n",
       "      <td>NaN</td>\n",
       "      <td>0</td>\n",
       "      <td>3</td>\n",
       "      <td>2010</td>\n",
       "      <td>WD</td>\n",
       "      <td>Normal</td>\n",
       "    </tr>\n",
       "    <tr>\n",
       "      <th>3</th>\n",
       "      <td>1464</td>\n",
       "      <td>60</td>\n",
       "      <td>RL</td>\n",
       "      <td>78.0</td>\n",
       "      <td>9978</td>\n",
       "      <td>Pave</td>\n",
       "      <td>NaN</td>\n",
       "      <td>IR1</td>\n",
       "      <td>Lvl</td>\n",
       "      <td>AllPub</td>\n",
       "      <td>...</td>\n",
       "      <td>0</td>\n",
       "      <td>0</td>\n",
       "      <td>NaN</td>\n",
       "      <td>NaN</td>\n",
       "      <td>NaN</td>\n",
       "      <td>0</td>\n",
       "      <td>6</td>\n",
       "      <td>2010</td>\n",
       "      <td>WD</td>\n",
       "      <td>Normal</td>\n",
       "    </tr>\n",
       "    <tr>\n",
       "      <th>4</th>\n",
       "      <td>1465</td>\n",
       "      <td>120</td>\n",
       "      <td>RL</td>\n",
       "      <td>43.0</td>\n",
       "      <td>5005</td>\n",
       "      <td>Pave</td>\n",
       "      <td>NaN</td>\n",
       "      <td>IR1</td>\n",
       "      <td>HLS</td>\n",
       "      <td>AllPub</td>\n",
       "      <td>...</td>\n",
       "      <td>144</td>\n",
       "      <td>0</td>\n",
       "      <td>NaN</td>\n",
       "      <td>NaN</td>\n",
       "      <td>NaN</td>\n",
       "      <td>0</td>\n",
       "      <td>1</td>\n",
       "      <td>2010</td>\n",
       "      <td>WD</td>\n",
       "      <td>Normal</td>\n",
       "    </tr>\n",
       "  </tbody>\n",
       "</table>\n",
       "<p>5 rows × 80 columns</p>\n",
       "</div>"
      ],
      "text/plain": [
       "     Id  MSSubClass MSZoning  LotFrontage  LotArea Street Alley LotShape  \\\n",
       "0  1461          20       RH         80.0    11622   Pave   NaN      Reg   \n",
       "1  1462          20       RL         81.0    14267   Pave   NaN      IR1   \n",
       "2  1463          60       RL         74.0    13830   Pave   NaN      IR1   \n",
       "3  1464          60       RL         78.0     9978   Pave   NaN      IR1   \n",
       "4  1465         120       RL         43.0     5005   Pave   NaN      IR1   \n",
       "\n",
       "  LandContour Utilities  ... ScreenPorch PoolArea PoolQC  Fence MiscFeature  \\\n",
       "0         Lvl    AllPub  ...         120        0    NaN  MnPrv         NaN   \n",
       "1         Lvl    AllPub  ...           0        0    NaN    NaN        Gar2   \n",
       "2         Lvl    AllPub  ...           0        0    NaN  MnPrv         NaN   \n",
       "3         Lvl    AllPub  ...           0        0    NaN    NaN         NaN   \n",
       "4         HLS    AllPub  ...         144        0    NaN    NaN         NaN   \n",
       "\n",
       "  MiscVal MoSold  YrSold  SaleType  SaleCondition  \n",
       "0       0      6    2010        WD         Normal  \n",
       "1   12500      6    2010        WD         Normal  \n",
       "2       0      3    2010        WD         Normal  \n",
       "3       0      6    2010        WD         Normal  \n",
       "4       0      1    2010        WD         Normal  \n",
       "\n",
       "[5 rows x 80 columns]"
      ]
     },
     "execution_count": 2,
     "metadata": {},
     "output_type": "execute_result"
    }
   ],
   "source": [
    "main_test.head()"
   ]
  },
  {
   "cell_type": "code",
   "execution_count": 3,
   "metadata": {},
   "outputs": [
    {
     "data": {
      "text/html": [
       "<div>\n",
       "<style scoped>\n",
       "    .dataframe tbody tr th:only-of-type {\n",
       "        vertical-align: middle;\n",
       "    }\n",
       "\n",
       "    .dataframe tbody tr th {\n",
       "        vertical-align: top;\n",
       "    }\n",
       "\n",
       "    .dataframe thead th {\n",
       "        text-align: right;\n",
       "    }\n",
       "</style>\n",
       "<table border=\"1\" class=\"dataframe\">\n",
       "  <thead>\n",
       "    <tr style=\"text-align: right;\">\n",
       "      <th></th>\n",
       "      <th>Id</th>\n",
       "      <th>MSSubClass</th>\n",
       "      <th>MSZoning</th>\n",
       "      <th>LotFrontage</th>\n",
       "      <th>LotArea</th>\n",
       "      <th>Street</th>\n",
       "      <th>Alley</th>\n",
       "      <th>LotShape</th>\n",
       "      <th>LandContour</th>\n",
       "      <th>Utilities</th>\n",
       "      <th>...</th>\n",
       "      <th>PoolArea</th>\n",
       "      <th>PoolQC</th>\n",
       "      <th>Fence</th>\n",
       "      <th>MiscFeature</th>\n",
       "      <th>MiscVal</th>\n",
       "      <th>MoSold</th>\n",
       "      <th>YrSold</th>\n",
       "      <th>SaleType</th>\n",
       "      <th>SaleCondition</th>\n",
       "      <th>SalePrice</th>\n",
       "    </tr>\n",
       "  </thead>\n",
       "  <tbody>\n",
       "    <tr>\n",
       "      <th>0</th>\n",
       "      <td>1</td>\n",
       "      <td>60</td>\n",
       "      <td>RL</td>\n",
       "      <td>65.0</td>\n",
       "      <td>8450</td>\n",
       "      <td>Pave</td>\n",
       "      <td>NaN</td>\n",
       "      <td>Reg</td>\n",
       "      <td>Lvl</td>\n",
       "      <td>AllPub</td>\n",
       "      <td>...</td>\n",
       "      <td>0</td>\n",
       "      <td>NaN</td>\n",
       "      <td>NaN</td>\n",
       "      <td>NaN</td>\n",
       "      <td>0</td>\n",
       "      <td>2</td>\n",
       "      <td>2008</td>\n",
       "      <td>WD</td>\n",
       "      <td>Normal</td>\n",
       "      <td>208500</td>\n",
       "    </tr>\n",
       "    <tr>\n",
       "      <th>1</th>\n",
       "      <td>2</td>\n",
       "      <td>20</td>\n",
       "      <td>RL</td>\n",
       "      <td>80.0</td>\n",
       "      <td>9600</td>\n",
       "      <td>Pave</td>\n",
       "      <td>NaN</td>\n",
       "      <td>Reg</td>\n",
       "      <td>Lvl</td>\n",
       "      <td>AllPub</td>\n",
       "      <td>...</td>\n",
       "      <td>0</td>\n",
       "      <td>NaN</td>\n",
       "      <td>NaN</td>\n",
       "      <td>NaN</td>\n",
       "      <td>0</td>\n",
       "      <td>5</td>\n",
       "      <td>2007</td>\n",
       "      <td>WD</td>\n",
       "      <td>Normal</td>\n",
       "      <td>181500</td>\n",
       "    </tr>\n",
       "    <tr>\n",
       "      <th>2</th>\n",
       "      <td>3</td>\n",
       "      <td>60</td>\n",
       "      <td>RL</td>\n",
       "      <td>68.0</td>\n",
       "      <td>11250</td>\n",
       "      <td>Pave</td>\n",
       "      <td>NaN</td>\n",
       "      <td>IR1</td>\n",
       "      <td>Lvl</td>\n",
       "      <td>AllPub</td>\n",
       "      <td>...</td>\n",
       "      <td>0</td>\n",
       "      <td>NaN</td>\n",
       "      <td>NaN</td>\n",
       "      <td>NaN</td>\n",
       "      <td>0</td>\n",
       "      <td>9</td>\n",
       "      <td>2008</td>\n",
       "      <td>WD</td>\n",
       "      <td>Normal</td>\n",
       "      <td>223500</td>\n",
       "    </tr>\n",
       "    <tr>\n",
       "      <th>3</th>\n",
       "      <td>4</td>\n",
       "      <td>70</td>\n",
       "      <td>RL</td>\n",
       "      <td>60.0</td>\n",
       "      <td>9550</td>\n",
       "      <td>Pave</td>\n",
       "      <td>NaN</td>\n",
       "      <td>IR1</td>\n",
       "      <td>Lvl</td>\n",
       "      <td>AllPub</td>\n",
       "      <td>...</td>\n",
       "      <td>0</td>\n",
       "      <td>NaN</td>\n",
       "      <td>NaN</td>\n",
       "      <td>NaN</td>\n",
       "      <td>0</td>\n",
       "      <td>2</td>\n",
       "      <td>2006</td>\n",
       "      <td>WD</td>\n",
       "      <td>Abnorml</td>\n",
       "      <td>140000</td>\n",
       "    </tr>\n",
       "    <tr>\n",
       "      <th>4</th>\n",
       "      <td>5</td>\n",
       "      <td>60</td>\n",
       "      <td>RL</td>\n",
       "      <td>84.0</td>\n",
       "      <td>14260</td>\n",
       "      <td>Pave</td>\n",
       "      <td>NaN</td>\n",
       "      <td>IR1</td>\n",
       "      <td>Lvl</td>\n",
       "      <td>AllPub</td>\n",
       "      <td>...</td>\n",
       "      <td>0</td>\n",
       "      <td>NaN</td>\n",
       "      <td>NaN</td>\n",
       "      <td>NaN</td>\n",
       "      <td>0</td>\n",
       "      <td>12</td>\n",
       "      <td>2008</td>\n",
       "      <td>WD</td>\n",
       "      <td>Normal</td>\n",
       "      <td>250000</td>\n",
       "    </tr>\n",
       "  </tbody>\n",
       "</table>\n",
       "<p>5 rows × 81 columns</p>\n",
       "</div>"
      ],
      "text/plain": [
       "   Id  MSSubClass MSZoning  LotFrontage  LotArea Street Alley LotShape  \\\n",
       "0   1          60       RL         65.0     8450   Pave   NaN      Reg   \n",
       "1   2          20       RL         80.0     9600   Pave   NaN      Reg   \n",
       "2   3          60       RL         68.0    11250   Pave   NaN      IR1   \n",
       "3   4          70       RL         60.0     9550   Pave   NaN      IR1   \n",
       "4   5          60       RL         84.0    14260   Pave   NaN      IR1   \n",
       "\n",
       "  LandContour Utilities  ... PoolArea PoolQC Fence MiscFeature MiscVal MoSold  \\\n",
       "0         Lvl    AllPub  ...        0    NaN   NaN         NaN       0      2   \n",
       "1         Lvl    AllPub  ...        0    NaN   NaN         NaN       0      5   \n",
       "2         Lvl    AllPub  ...        0    NaN   NaN         NaN       0      9   \n",
       "3         Lvl    AllPub  ...        0    NaN   NaN         NaN       0      2   \n",
       "4         Lvl    AllPub  ...        0    NaN   NaN         NaN       0     12   \n",
       "\n",
       "  YrSold  SaleType  SaleCondition  SalePrice  \n",
       "0   2008        WD         Normal     208500  \n",
       "1   2007        WD         Normal     181500  \n",
       "2   2008        WD         Normal     223500  \n",
       "3   2006        WD        Abnorml     140000  \n",
       "4   2008        WD         Normal     250000  \n",
       "\n",
       "[5 rows x 81 columns]"
      ]
     },
     "execution_count": 3,
     "metadata": {},
     "output_type": "execute_result"
    }
   ],
   "source": [
    "main_train.head()"
   ]
  },
  {
   "cell_type": "code",
   "execution_count": 4,
   "metadata": {},
   "outputs": [
    {
     "data": {
      "text/html": [
       "<div>\n",
       "<style scoped>\n",
       "    .dataframe tbody tr th:only-of-type {\n",
       "        vertical-align: middle;\n",
       "    }\n",
       "\n",
       "    .dataframe tbody tr th {\n",
       "        vertical-align: top;\n",
       "    }\n",
       "\n",
       "    .dataframe thead th {\n",
       "        text-align: right;\n",
       "    }\n",
       "</style>\n",
       "<table border=\"1\" class=\"dataframe\">\n",
       "  <thead>\n",
       "    <tr style=\"text-align: right;\">\n",
       "      <th></th>\n",
       "      <th>Id</th>\n",
       "      <th>SalePrice</th>\n",
       "    </tr>\n",
       "  </thead>\n",
       "  <tbody>\n",
       "    <tr>\n",
       "      <th>0</th>\n",
       "      <td>1461</td>\n",
       "      <td>169277.052498</td>\n",
       "    </tr>\n",
       "    <tr>\n",
       "      <th>1</th>\n",
       "      <td>1462</td>\n",
       "      <td>187758.393989</td>\n",
       "    </tr>\n",
       "    <tr>\n",
       "      <th>2</th>\n",
       "      <td>1463</td>\n",
       "      <td>183583.683570</td>\n",
       "    </tr>\n",
       "    <tr>\n",
       "      <th>3</th>\n",
       "      <td>1464</td>\n",
       "      <td>179317.477511</td>\n",
       "    </tr>\n",
       "    <tr>\n",
       "      <th>4</th>\n",
       "      <td>1465</td>\n",
       "      <td>150730.079977</td>\n",
       "    </tr>\n",
       "  </tbody>\n",
       "</table>\n",
       "</div>"
      ],
      "text/plain": [
       "     Id      SalePrice\n",
       "0  1461  169277.052498\n",
       "1  1462  187758.393989\n",
       "2  1463  183583.683570\n",
       "3  1464  179317.477511\n",
       "4  1465  150730.079977"
      ]
     },
     "execution_count": 4,
     "metadata": {},
     "output_type": "execute_result"
    }
   ],
   "source": [
    "main_target_link.head()"
   ]
  },
  {
   "cell_type": "code",
   "execution_count": 5,
   "metadata": {},
   "outputs": [
    {
     "data": {
      "text/plain": [
       "<AxesSubplot:>"
      ]
     },
     "execution_count": 5,
     "metadata": {},
     "output_type": "execute_result"
    },
    {
     "data": {
      "image/png": "[encoded data removed]",
      "text/plain": [
       "<Figure size 432x288 with 1 Axes>"
      ]
     },
     "metadata": {
      "needs_background": "light"
     },
     "output_type": "display_data"
    }
   ],
   "source": [
    "main_train[\"SalePrice\"].hist()"
   ]
  },
  {
   "cell_type": "code",
   "execution_count": 6,
   "metadata": {},
   "outputs": [
    {
     "data": {
      "text/plain": [
       "<AxesSubplot:>"
      ]
     },
     "execution_count": 6,
     "metadata": {},
     "output_type": "execute_result"
    },
    {
     "data": {
      "image/png": "[encoded data removed]",
      "text/plain": [
       "<Figure size 432x288 with 1 Axes>"
      ]
     },
     "metadata": {
      "needs_background": "light"
     },
     "output_type": "display_data"
    }
   ],
   "source": [
    "np.log(main_train['SalePrice']).hist()"
   ]
  },
  {
   "cell_type": "markdown",
   "metadata": {},
   "source": [
    "## Test-Train data comparison"
   ]
  },
  {
   "cell_type": "code",
   "execution_count": 7,
   "metadata": {},
   "outputs": [
    {
     "name": "stdout",
     "output_type": "stream",
     "text": [
      "object     43\n",
      "int64      35\n",
      "float64     3\n",
      "dtype: int64\n",
      "object     43\n",
      "int64      26\n",
      "float64    11\n",
      "dtype: int64\n"
     ]
    },
    {
     "data": {
      "text/plain": [
       "PoolQC           0.995205\n",
       "MiscFeature      0.963014\n",
       "Alley            0.937671\n",
       "Fence            0.807534\n",
       "FireplaceQu      0.472603\n",
       "                   ...   \n",
       "CentralAir       0.000000\n",
       "SaleCondition    0.000000\n",
       "Heating          0.000000\n",
       "TotalBsmtSF      0.000000\n",
       "Id               0.000000\n",
       "Length: 81, dtype: float64"
      ]
     },
     "execution_count": 7,
     "metadata": {},
     "output_type": "execute_result"
    }
   ],
   "source": [
    "#Check data types count\n",
    "print(main_train.dtypes.value_counts())\n",
    "print(main_test.dtypes.value_counts())\n",
    "main_train.isna().mean().sort_values(ascending = False)"
   ]
  },
  {
   "cell_type": "code",
   "execution_count": 8,
   "metadata": {},
   "outputs": [
    {
     "data": {
      "text/plain": [
       "OverallQual     0.790982\n",
       "GrLivArea       0.708624\n",
       "GarageCars      0.640409\n",
       "GarageArea      0.623431\n",
       "TotalBsmtSF     0.613581\n",
       "1stFlrSF        0.605852\n",
       "FullBath        0.560664\n",
       "TotRmsAbvGrd    0.533723\n",
       "YearBuilt       0.522897\n",
       "YearRemodAdd    0.507101\n",
       "GarageYrBlt     0.486362\n",
       "MasVnrArea      0.477493\n",
       "Fireplaces      0.466929\n",
       "BsmtFinSF1      0.386420\n",
       "LotFrontage     0.351799\n",
       "WoodDeckSF      0.324413\n",
       "2ndFlrSF        0.319334\n",
       "OpenPorchSF     0.315856\n",
       "HalfBath        0.284108\n",
       "LotArea         0.263843\n",
       "Name: SalePrice, dtype: float64"
      ]
     },
     "execution_count": 8,
     "metadata": {},
     "output_type": "execute_result"
    }
   ],
   "source": [
    "correlation = main_train.corr()\n",
    "main_train_corr = correlation['SalePrice'].sort_values(ascending = False)[1:][:20]\n",
    "main_train_corr"
   ]
  },
  {
   "cell_type": "markdown",
   "metadata": {},
   "source": [
    "## Functions"
   ]
  },
  {
   "cell_type": "code",
   "execution_count": 9,
   "metadata": {},
   "outputs": [],
   "source": [
    "def custmDrop(df):\n",
    "    res = df\n",
    "    for col in df.columns:\n",
    "        if (len(df[col].unique()) == 1 or df[col].isna().mean()>0.3):\n",
    "            res = res.drop(col,inplace=False,axis=1)\n",
    "    return res\n",
    "\n",
    "def medianReplacer(df):\n",
    "    res = df.fillna(df.mean())\n",
    "    return res\n",
    "\n",
    "def concatFields(df1,df2):\n",
    "    pass"
   ]
  },
  {
   "cell_type": "markdown",
   "metadata": {},
   "source": [
    "# Prepare Data"
   ]
  },
  {
   "cell_type": "code",
   "execution_count": 10,
   "metadata": {},
   "outputs": [
    {
     "data": {
      "text/plain": [
       "LotFrontage     0.177397\n",
       "GarageType      0.055479\n",
       "GarageYrBlt     0.055479\n",
       "GarageFinish    0.055479\n",
       "GarageQual      0.055479\n",
       "                  ...   \n",
       "FullBath        0.000000\n",
       "HalfBath        0.000000\n",
       "BedroomAbvGr    0.000000\n",
       "KitchenAbvGr    0.000000\n",
       "Id              0.000000\n",
       "Length: 77, dtype: float64"
      ]
     },
     "execution_count": 10,
     "metadata": {},
     "output_type": "execute_result"
    }
   ],
   "source": [
    "main_train_ = custmDrop(main_train)\n",
    "main_test_ = custmDrop(main_test)\n",
    "\n",
    "main_train_target = main_train_.sort_values(by=['Id'])['SalePrice'].astype('float64')\n",
    "main_test_target = main_target_link.sort_values(by=['Id'])['SalePrice'].astype('float64')\n",
    "\n",
    "main_train_['TotalSF'] = main_train_['TotalBsmtSF'] + main_train_['1stFlrSF'] + main_train_['2ndFlrSF']\n",
    "main_test_['TotalSF'] = main_test_['TotalBsmtSF'] + main_test_['1stFlrSF'] + main_test_['2ndFlrSF']\n",
    "\n",
    "train_rows_count = main_train_.shape[0]\n",
    "\n",
    "main_train_.isna().mean().sort_values(ascending = False)"
   ]
  },
  {
   "cell_type": "markdown",
   "metadata": {},
   "source": [
    "## Int fields"
   ]
  },
  {
   "cell_type": "code",
   "execution_count": 11,
   "metadata": {},
   "outputs": [
    {
     "name": "stdout",
     "output_type": "stream",
     "text": [
      "(1460, 34) (1459, 25)\n",
      "(1460, 10) (1459, 25)\n"
     ]
    }
   ],
   "source": [
    "from sklearn.feature_selection import SelectKBest, f_classif, chi2\n",
    "\n",
    "#MinMax int64 fields\n",
    "main_train_int = main_train_.sort_values(by=['Id']).loc[ : , ~main_train_.columns.isin(['Id', 'SalePrice'])].select_dtypes(include=['int64'])#.fillna(np.nan)\n",
    "main_train_int = medianReplacer(main_train_int)\n",
    "main_train_int = main_train_int.apply(lambda x: (x-min(x))/(max(x)-min(x)))\n",
    "\n",
    "#main_train_int_new = SelectKBest(chi2, k=10).fit_transform(main_train_int, main_train_target)\n",
    "      \n",
    "main_test_int = main_test_.sort_values(by=['Id']).loc[ : , ~main_test_.columns.isin(['Id', 'SalePrice'])].select_dtypes(include=['int64'])#.fillna(np.nan)\n",
    "main_test_int = medianReplacer(main_test_int)\n",
    "main_test_int = main_test_int.apply(lambda x: (x-min(x))/(max(x)-min(x)))\n",
    "\n",
    "print(main_train_int.shape, main_test_int.shape)\n",
    "\n",
    "\n",
    "selector = SelectKBest(f_classif, k=10)\n",
    "selector.fit(main_train_int, main_train_target)\n",
    "\n",
    "cols = selector.get_support(indices=True)\n",
    "main_train_int_new = main_train_int.iloc[:,cols]\n",
    "\n",
    "#print(main_train_int_new)\n",
    "print(main_train_int_new.shape, main_test_int.shape)"
   ]
  },
  {
   "cell_type": "markdown",
   "metadata": {},
   "source": [
    "## Float fields"
   ]
  },
  {
   "cell_type": "code",
   "execution_count": 12,
   "metadata": {},
   "outputs": [
    {
     "name": "stdout",
     "output_type": "stream",
     "text": [
      "(1460, 3) (1459, 12)\n",
      "      LotFrontage  MasVnrArea  GarageYrBlt\n",
      "0        0.150685    0.122500     0.936364\n",
      "1        0.202055    0.000000     0.690909\n",
      "2        0.160959    0.101250     0.918182\n",
      "3        0.133562    0.000000     0.890909\n",
      "4        0.215753    0.218750     0.909091\n",
      "...           ...         ...          ...\n",
      "1455     0.140411    0.000000     0.900000\n",
      "1456     0.219178    0.074375     0.709091\n",
      "1457     0.154110    0.000000     0.372727\n",
      "1458     0.160959    0.000000     0.454545\n",
      "1459     0.184932    0.000000     0.590909\n",
      "\n",
      "[1460 rows x 3 columns]\n",
      "(1460, 3) (1459, 25)\n"
     ]
    }
   ],
   "source": [
    "#MinMax float64 fields\n",
    "main_train_float = main_train_.sort_values(by=['Id']).loc[ : , ~main_train_.columns.isin(['Id', 'SalePrice'])].select_dtypes(include=['float64'])#.fillna(np.nan)\n",
    "main_train_float = medianReplacer(main_train_float)\n",
    "main_train_float = main_train_float.apply(lambda x: (x-min(x))/(max(x)-min(x)))\n",
    "      \n",
    "main_test_float = main_test_.sort_values(by=['Id']).loc[ : , ~main_test_.columns.isin(['Id', 'SalePrice'])].select_dtypes(include=['float64'])#.fillna(np.nan)\n",
    "main_test_float = medianReplacer(main_test_float)\n",
    "main_test_float = main_test_float.apply(lambda x: (x-min(x))/(max(x)-min(x)))\n",
    "print(main_train_float.shape, main_test_float.shape)\n",
    "\n",
    "selector = SelectKBest(f_classif, k=3)\n",
    "selector.fit(main_train_float, main_train_target)\n",
    "\n",
    "cols = selector.get_support(indices=True)\n",
    "main_train_float_new = main_train_float.iloc[:,cols]\n",
    "\n",
    "print(main_train_float_new)\n",
    "print(main_train_float_new.shape, main_test_int.shape)"
   ]
  },
  {
   "cell_type": "markdown",
   "metadata": {},
   "source": [
    "## Object fields"
   ]
  },
  {
   "cell_type": "code",
   "execution_count": 13,
   "metadata": {},
   "outputs": [
    {
     "name": "stdout",
     "output_type": "stream",
     "text": [
      "main_train_obj_shape:  (1460, 234) main_test_obj_shape:  (1459, 218)\n",
      "(1460, 10) (1460, 234)\n",
      "main_train_calc_shape:  (1460, 19) main_test_calc_shape:  (1459, 19)\n"
     ]
    }
   ],
   "source": [
    "#OneHot object fields\n",
    "main_train_obj = main_train_.sort_values(by=['Id']).loc[ : , ~main_train_.columns.isin(['Id', 'SalePrice'])].select_dtypes(include=['O'])#.fillna(\"None\")\n",
    "main_test_obj = main_test_.sort_values(by=['Id']).loc[ : , ~main_test_.columns.isin(['Id', 'SalePrice'])].select_dtypes(include=['O'])#.fillna(\"None\")\n",
    "\n",
    "main_train_obj = pd.get_dummies(main_train_obj, dtype=int).fillna(axis=0,method='ffill')\n",
    "main_test_obj = pd.get_dummies(main_test_obj, dtype=int).fillna(axis=0,method='ffill')\n",
    "\n",
    "main_train_obj = custmDrop(main_train_obj)\n",
    "main_test_obj  = custmDrop(main_test_obj )\n",
    "\n",
    "print('main_train_obj_shape: ',main_train_obj.shape,'main_test_obj_shape: ', main_test_obj.shape)\n",
    "\n",
    "selector = SelectKBest(chi2, k=10)\n",
    "#selector = SelectKBest(f_classif, k=10)\n",
    "selector.fit(main_train_obj, main_train_target)\n",
    "\n",
    "cols = selector.get_support(indices=True)\n",
    "main_train_obj_new = main_train_obj.iloc[:,cols]\n",
    "\n",
    "#print(main_train_obj_new)\n",
    "print(main_train_obj_new.shape, main_train_obj.shape)\n",
    "\n",
    "dfListTrain = [main_train_int_new, main_train_float_new, main_train_obj_new]\n",
    "main_train_calc = pd.concat(dfListTrain,axis=1, join=\"inner\")\n",
    "\n",
    "dfListTest = [main_test_int, main_test_float, main_test_obj] \n",
    "main_test_calc = pd.concat(dfListTest,axis=1, join=\"inner\")\n",
    "\n",
    "#Concatinate fields\n",
    "test_train_concat = pd.concat(objs=[main_train_calc, main_test_calc], axis=0, join=\"inner\")\n",
    "test_train_concat = pd.get_dummies(test_train_concat, dtype=int)#.fillna(0)\n",
    "test_train_concat = custmDrop(test_train_concat)\n",
    "main_train_calc = test_train_concat[:train_rows_count].reset_index().drop('index',axis=1)\n",
    "main_test_calc = test_train_concat[train_rows_count:].reset_index().drop('index',axis=1)\n",
    "\n",
    "print('main_train_calc_shape: ',main_train_calc.shape,'main_test_calc_shape: ',main_test_calc.shape)\n"
   ]
  },
  {
   "cell_type": "code",
   "execution_count": 14,
   "metadata": {},
   "outputs": [
    {
     "name": "stdout",
     "output_type": "stream",
     "text": [
      "main_train_calc, rows 19 main_test_calc, rows 19 Length_train 1460 Length_test 1459\n"
     ]
    }
   ],
   "source": [
    "print('main_train_calc, rows',main_train_calc.shape[1],'main_test_calc, rows',main_test_calc.shape[1],'Length_train',\n",
    "     main_train_calc.shape[0],'Length_test',main_test_calc.shape[0])"
   ]
  },
  {
   "cell_type": "code",
   "execution_count": 15,
   "metadata": {},
   "outputs": [
    {
     "name": "stdout",
     "output_type": "stream",
     "text": [
      "float64    13\n",
      "int32       6\n",
      "dtype: int64\n",
      "float64    13\n",
      "int32       6\n",
      "dtype: int64\n"
     ]
    }
   ],
   "source": [
    "print(main_train_calc.dtypes.value_counts())\n",
    "print(main_test_calc.dtypes.value_counts())"
   ]
  },
  {
   "cell_type": "code",
   "execution_count": 17,
   "metadata": {},
   "outputs": [
    {
     "data": {
      "text/plain": [
       "['LotArea',\n",
       " 'OverallQual',\n",
       " 'TotalBsmtSF',\n",
       " '1stFlrSF',\n",
       " 'GrLivArea',\n",
       " 'FullBath',\n",
       " 'GarageCars',\n",
       " 'GarageArea',\n",
       " 'MiscVal',\n",
       " 'TotalSF',\n",
       " 'LotFrontage',\n",
       " 'MasVnrArea',\n",
       " 'GarageYrBlt',\n",
       " 'Condition2_PosN',\n",
       " 'ExterQual_Ex',\n",
       " 'ExterCond_Po',\n",
       " 'BsmtCond_Po',\n",
       " 'SaleType_Con',\n",
       " 'SaleCondition_Alloca']"
      ]
     },
     "execution_count": 17,
     "metadata": {},
     "output_type": "execute_result"
    }
   ],
   "source": [
    "\n",
    "test_train_concat.isna().mean().sort_values(ascending = False)\n",
    "list(main_train_calc)"
   ]
  },
  {
   "cell_type": "code",
   "execution_count": 18,
   "metadata": {},
   "outputs": [
    {
     "name": "stdout",
     "output_type": "stream",
     "text": [
      "object     38\n",
      "int64      36\n",
      "float64     3\n",
      "dtype: int64\n",
      "object     38\n",
      "int64      26\n",
      "float64    12\n",
      "dtype: int64\n"
     ]
    },
    {
     "data": {
      "text/plain": [
       "OverallQual     0.790982\n",
       "TotalSF         0.782260\n",
       "GrLivArea       0.708624\n",
       "GarageCars      0.640409\n",
       "GarageArea      0.623431\n",
       "TotalBsmtSF     0.613581\n",
       "1stFlrSF        0.605852\n",
       "FullBath        0.560664\n",
       "TotRmsAbvGrd    0.533723\n",
       "YearBuilt       0.522897\n",
       "YearRemodAdd    0.507101\n",
       "GarageYrBlt     0.486362\n",
       "MasVnrArea      0.477493\n",
       "Fireplaces      0.466929\n",
       "BsmtFinSF1      0.386420\n",
       "LotFrontage     0.351799\n",
       "WoodDeckSF      0.324413\n",
       "2ndFlrSF        0.319334\n",
       "OpenPorchSF     0.315856\n",
       "HalfBath        0.284108\n",
       "Name: SalePrice, dtype: float64"
      ]
     },
     "execution_count": 18,
     "metadata": {},
     "output_type": "execute_result"
    }
   ],
   "source": [
    "print(main_train_.dtypes.value_counts())\n",
    "print(main_test_.dtypes.value_counts())\n",
    "correlation = main_train_.corr()\n",
    "main_train_corr = correlation['SalePrice'].sort_values(ascending = False)[1:][:20]\n",
    "main_train_corr"
   ]
  },
  {
   "cell_type": "markdown",
   "metadata": {},
   "source": [
    "## Calculations"
   ]
  },
  {
   "cell_type": "code",
   "execution_count": 19,
   "metadata": {},
   "outputs": [
    {
     "name": "stdout",
     "output_type": "stream",
     "text": [
      "0.8201744913898674\n",
      "-11.514554761784682\n",
      "0.3049132823572786 0.3049132823572786\n"
     ]
    }
   ],
   "source": [
    "from sklearn.ensemble import RandomForestRegressor, BaggingRegressor\n",
    "from sklearn.ensemble import StackingRegressor\n",
    "from sklearn.ensemble import RandomForestRegressor\n",
    "import lightgbm as lgbm\n",
    "import xgboost as xgb\n",
    "from sklearn.ensemble import GradientBoostingRegressor\n",
    "from sklearn.linear_model import LogisticRegression\n",
    "from sklearn.model_selection import train_test_split\n",
    "from sklearn.metrics import mean_squared_error\n",
    "from math import *\n",
    "\n",
    "main_train_target = main_train_.sort_values(by=['Id'])['SalePrice'].astype('float64')\n",
    "main_test_target = main_target_link.sort_values(by=['Id'])['SalePrice'].astype('float64')\n",
    "\n",
    "train, test, target_train, target_test = train_test_split(main_train_calc, main_train_target,test_size=0.3, shuffle=False)\n",
    "\n",
    "main_test_calc_new = main_test_calc[list(main_train_calc)]\n",
    "\n",
    "rf = RandomForestRegressor(max_features = 'sqrt', n_estimators=1000).fit(train, target_train)\n",
    "#gb = GradientBoostingRegressor(criterion = 'friedman_mse', max_depth = 5, n_estimators = 100).fit(train, target_train)\n",
    "predict_rf_test = rf.predict(test)\n",
    "print(rf.score(test,target_test))\n",
    "print(rf.score(main_test_calc_new,main_test_target))\n",
    "\n",
    "score = sqrt(mean_squared_error(np.log(main_test_target), np.log(rf.predict(main_test_calc_new))))\n",
    "score2 = sqrt(sum((np.log(main_test_target) - np.log(rf.predict(main_test_calc_new)))**2)/main_test_calc_new.shape[0])\n",
    "print(score, score2)"
   ]
  },
  {
   "cell_type": "code",
   "execution_count": null,
   "metadata": {},
   "outputs": [],
   "source": [
    "\n"
   ]
  },
  {
   "cell_type": "code",
   "execution_count": 21,
   "metadata": {},
   "outputs": [
    {
     "data": {
      "text/plain": [
       "0"
      ]
     },
     "execution_count": 21,
     "metadata": {},
     "output_type": "execute_result"
    }
   ],
   "source": []
  },
  {
   "cell_type": "code",
   "execution_count": null,
   "metadata": {},
   "outputs": [],
   "source": []
  },
  {
   "cell_type": "code",
   "execution_count": null,
   "metadata": {},
   "outputs": [],
   "source": []
  },
  {
   "cell_type": "code",
   "execution_count": null,
   "metadata": {},
   "outputs": [],
   "source": []
  },
  {
   "cell_type": "code",
   "execution_count": null,
   "metadata": {},
   "outputs": [],
   "source": []
  },
  {
   "cell_type": "markdown",
   "metadata": {},
   "source": [
    "## Test"
   ]
  },
  {
   "cell_type": "code",
   "execution_count": 19,
   "metadata": {},
   "outputs": [
    {
     "name": "stdout",
     "output_type": "stream",
     "text": [
      "0.8536564355345856\n",
      "-18.386487859434297\n",
      "0.3571989494727267\n",
      "Wall time: 5.64 s\n"
     ]
    }
   ],
   "source": [
    "%%time\n",
    "import lightgbm as lgbm\n",
    "from sklearn.ensemble import StackingRegressor\n",
    "from sklearn.ensemble import RandomForestRegressor\n",
    "import xgboost as xgb\n",
    "from sklearn.ensemble import GradientBoostingRegressor\n",
    "from sklearn.linear_model import LogisticRegression\n",
    "from sklearn.model_selection import train_test_split\n",
    "from sklearn.metrics import mean_squared_error\n",
    "from math import *\n",
    "\n",
    "#main_train_calc\n",
    "#main_test_calc\n",
    "main_train_target = main_train_.sort_values(by=['Id'])['SalePrice'].astype('float64')\n",
    "#main_train_target = np.log1p(main_train_target)\n",
    "main_test_target = main_target_link.sort_values(by=['Id'])['SalePrice'].astype('float64')\n",
    "#main_test_target = np.log1p(main_test_target)\n",
    "\n",
    "train, test, target_train, target_test = train_test_split(main_train_calc, main_train_target,test_size=0.3, shuffle=False)\n",
    "\n",
    "clfs = [\n",
    "    ('RF', RandomForestRegressor(max_features = 'sqrt', n_estimators = 100)),\n",
    "    ('lgbm', lgbm.LGBMRegressor(boosting_type = 'dart', learning_rate = 0.2, max_depth = 3, n_estimators = 175)),\n",
    "    ('gbr', GradientBoostingRegressor(criterion = 'friedman_mse', max_depth = 5, n_estimators = 100)),\n",
    " ]\n",
    "\n",
    "\n",
    "stck = StackingRegressor(estimators = clfs, n_jobs = -1, cv = 5)\n",
    "\n",
    "stck_fit = stck.fit(train, target_train)\n",
    "\n",
    "\n",
    "print(stck_fit.score(test, target_test))\n",
    "print(stck_fit.score(main_test_calc,main_test_target))#WTF?\n",
    "\n",
    "\n",
    "score = sqrt(mean_squared_error(np.log(main_test_target), np.log(stck.predict(main_test_calc))))\n",
    "print(score)"
   ]
  },
  {
   "cell_type": "code",
   "execution_count": null,
   "metadata": {},
   "outputs": [],
   "source": []
  },
  {
   "cell_type": "code",
   "execution_count": null,
   "metadata": {},
   "outputs": [],
   "source": []
  },
  {
   "cell_type": "code",
   "execution_count": null,
   "metadata": {},
   "outputs": [],
   "source": []
  },
  {
   "cell_type": "code",
   "execution_count": 17,
   "metadata": {},
   "outputs": [
    {
     "name": "stdout",
     "output_type": "stream",
     "text": [
      "Wall time: 8.63 s\n"
     ]
    },
    {
     "data": {
      "text/plain": [
       "0.946278257460267"
      ]
     },
     "execution_count": 17,
     "metadata": {},
     "output_type": "execute_result"
    }
   ],
   "source": [
    "%%time\n",
    "import lightgbm as lgbm\n",
    "from sklearn.ensemble import StackingRegressor\n",
    "import xgboost as xgb\n",
    "from sklearn.ensemble import RandomForestRegressor\n",
    "from sklearn.ensemble import GradientBoostingRegressor\n",
    "from sklearn.model_selection import train_test_split\n",
    "\n",
    "main_train_target = main_train_.sort_values(by=['Id'])['SalePrice']\n",
    "\n",
    "train, test, target_train, target_test = train_test_split(main_train_calc, main_train_target,test_size=0.3, shuffle=False)\n",
    "\n",
    "clfs = [\n",
    "    ('gbr', GradientBoostingRegressor(criterion = 'friedman_mse', max_depth = 5, n_estimators = 100)),\n",
    "     #('xgb', xgb.XGBRegressor(booster  = 'gbtree', n_estimators = 125)),\n",
    "     ('RF', RandomForestRegressor(max_features = 'sqrt', n_estimators = 100)),\n",
    "     ('lgbm', lgbm.LGBMRegressor(boosting_type = 'dart', learning_rate = 0.2, max_depth = 3, n_estimators = 175)),\n",
    " ]\n",
    "\n",
    "stck = StackingRegressor(estimators = clfs, n_jobs = 8, cv = 20)\n",
    "\n",
    "stck.fit(train, target_train)\n",
    "\n",
    "stck.score(main_train_calc, main_train_target)\n",
    "#predict = stck.predict(main_train_calc)\n",
    "#predict"
   ]
  },
  {
   "cell_type": "code",
   "execution_count": 18,
   "metadata": {},
   "outputs": [
    {
     "data": {
      "text/plain": [
       "-32.71170470147222"
      ]
     },
     "execution_count": 18,
     "metadata": {},
     "output_type": "execute_result"
    }
   ],
   "source": [
    "#main_test_calc = main_test_calc[main_train_calc.columns]\n",
    "\n",
    "main_test_target = main_target_link.sort_values(by=['Id'])['SalePrice'].astype('int')\n",
    "#main_test_target\n",
    "stck.score(main_test_calc, main_test_target)\n",
    "#predict = stck.predict(main_test_calc)\n",
    "#predict"
   ]
  },
  {
   "cell_type": "code",
   "execution_count": 20,
   "metadata": {},
   "outputs": [
    {
     "name": "stdout",
     "output_type": "stream",
     "text": [
      "0.39578106960585796\n"
     ]
    }
   ],
   "source": [
    "score = sqrt(mean_squared_error(np.log(main_test_target), np.log(stck.predict(main_test_calc))))\n",
    "print(score)"
   ]
  },
  {
   "cell_type": "code",
   "execution_count": null,
   "metadata": {},
   "outputs": [],
   "source": []
  }
 ],
 "metadata": {
  "kernelspec": {
   "display_name": "Python 3",
   "language": "python",
   "name": "python3"
  },
  "language_info": {
   "codemirror_mode": {
    "name": "ipython",
    "version": 3
   },
   "file_extension": ".py",
   "mimetype": "text/x-python",
   "name": "python",
   "nbconvert_exporter": "python",
   "pygments_lexer": "ipython3",
   "version": "3.8.5"
  }
 },
 "nbformat": 4,
 "nbformat_minor": 4
}
