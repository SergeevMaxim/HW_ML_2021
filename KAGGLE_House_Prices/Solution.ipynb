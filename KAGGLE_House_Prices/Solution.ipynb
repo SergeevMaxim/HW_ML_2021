{
 "cells": [
  {
   "cell_type": "code",
   "execution_count": 1,
   "metadata": {},
   "outputs": [],
   "source": [
    "%matplotlib inline\n",
    "import numpy as np\n",
    "import pandas as pd\n",
    "main_train = pd.read_csv(\"train.csv\")\n",
    "main_test = pd.read_csv(\"test.csv\")\n",
    "main_target_link = pd.read_csv(\"sample_submission.csv\")"
   ]
  },
  {
   "cell_type": "code",
   "execution_count": 2,
   "metadata": {},
   "outputs": [
    {
     "data": {
      "text/html": [
       "<div>\n",
       "<style scoped>\n",
       "    .dataframe tbody tr th:only-of-type {\n",
       "        vertical-align: middle;\n",
       "    }\n",
       "\n",
       "    .dataframe tbody tr th {\n",
       "        vertical-align: top;\n",
       "    }\n",
       "\n",
       "    .dataframe thead th {\n",
       "        text-align: right;\n",
       "    }\n",
       "</style>\n",
       "<table border=\"1\" class=\"dataframe\">\n",
       "  <thead>\n",
       "    <tr style=\"text-align: right;\">\n",
       "      <th></th>\n",
       "      <th>Id</th>\n",
       "      <th>MSSubClass</th>\n",
       "      <th>MSZoning</th>\n",
       "      <th>LotFrontage</th>\n",
       "      <th>LotArea</th>\n",
       "      <th>Street</th>\n",
       "      <th>Alley</th>\n",
       "      <th>LotShape</th>\n",
       "      <th>LandContour</th>\n",
       "      <th>Utilities</th>\n",
       "      <th>...</th>\n",
       "      <th>ScreenPorch</th>\n",
       "      <th>PoolArea</th>\n",
       "      <th>PoolQC</th>\n",
       "      <th>Fence</th>\n",
       "      <th>MiscFeature</th>\n",
       "      <th>MiscVal</th>\n",
       "      <th>MoSold</th>\n",
       "      <th>YrSold</th>\n",
       "      <th>SaleType</th>\n",
       "      <th>SaleCondition</th>\n",
       "    </tr>\n",
       "  </thead>\n",
       "  <tbody>\n",
       "    <tr>\n",
       "      <th>0</th>\n",
       "      <td>1461</td>\n",
       "      <td>20</td>\n",
       "      <td>RH</td>\n",
       "      <td>80.0</td>\n",
       "      <td>11622</td>\n",
       "      <td>Pave</td>\n",
       "      <td>NaN</td>\n",
       "      <td>Reg</td>\n",
       "      <td>Lvl</td>\n",
       "      <td>AllPub</td>\n",
       "      <td>...</td>\n",
       "      <td>120</td>\n",
       "      <td>0</td>\n",
       "      <td>NaN</td>\n",
       "      <td>MnPrv</td>\n",
       "      <td>NaN</td>\n",
       "      <td>0</td>\n",
       "      <td>6</td>\n",
       "      <td>2010</td>\n",
       "      <td>WD</td>\n",
       "      <td>Normal</td>\n",
       "    </tr>\n",
       "    <tr>\n",
       "      <th>1</th>\n",
       "      <td>1462</td>\n",
       "      <td>20</td>\n",
       "      <td>RL</td>\n",
       "      <td>81.0</td>\n",
       "      <td>14267</td>\n",
       "      <td>Pave</td>\n",
       "      <td>NaN</td>\n",
       "      <td>IR1</td>\n",
       "      <td>Lvl</td>\n",
       "      <td>AllPub</td>\n",
       "      <td>...</td>\n",
       "      <td>0</td>\n",
       "      <td>0</td>\n",
       "      <td>NaN</td>\n",
       "      <td>NaN</td>\n",
       "      <td>Gar2</td>\n",
       "      <td>12500</td>\n",
       "      <td>6</td>\n",
       "      <td>2010</td>\n",
       "      <td>WD</td>\n",
       "      <td>Normal</td>\n",
       "    </tr>\n",
       "    <tr>\n",
       "      <th>2</th>\n",
       "      <td>1463</td>\n",
       "      <td>60</td>\n",
       "      <td>RL</td>\n",
       "      <td>74.0</td>\n",
       "      <td>13830</td>\n",
       "      <td>Pave</td>\n",
       "      <td>NaN</td>\n",
       "      <td>IR1</td>\n",
       "      <td>Lvl</td>\n",
       "      <td>AllPub</td>\n",
       "      <td>...</td>\n",
       "      <td>0</td>\n",
       "      <td>0</td>\n",
       "      <td>NaN</td>\n",
       "      <td>MnPrv</td>\n",
       "      <td>NaN</td>\n",
       "      <td>0</td>\n",
       "      <td>3</td>\n",
       "      <td>2010</td>\n",
       "      <td>WD</td>\n",
       "      <td>Normal</td>\n",
       "    </tr>\n",
       "    <tr>\n",
       "      <th>3</th>\n",
       "      <td>1464</td>\n",
       "      <td>60</td>\n",
       "      <td>RL</td>\n",
       "      <td>78.0</td>\n",
       "      <td>9978</td>\n",
       "      <td>Pave</td>\n",
       "      <td>NaN</td>\n",
       "      <td>IR1</td>\n",
       "      <td>Lvl</td>\n",
       "      <td>AllPub</td>\n",
       "      <td>...</td>\n",
       "      <td>0</td>\n",
       "      <td>0</td>\n",
       "      <td>NaN</td>\n",
       "      <td>NaN</td>\n",
       "      <td>NaN</td>\n",
       "      <td>0</td>\n",
       "      <td>6</td>\n",
       "      <td>2010</td>\n",
       "      <td>WD</td>\n",
       "      <td>Normal</td>\n",
       "    </tr>\n",
       "    <tr>\n",
       "      <th>4</th>\n",
       "      <td>1465</td>\n",
       "      <td>120</td>\n",
       "      <td>RL</td>\n",
       "      <td>43.0</td>\n",
       "      <td>5005</td>\n",
       "      <td>Pave</td>\n",
       "      <td>NaN</td>\n",
       "      <td>IR1</td>\n",
       "      <td>HLS</td>\n",
       "      <td>AllPub</td>\n",
       "      <td>...</td>\n",
       "      <td>144</td>\n",
       "      <td>0</td>\n",
       "      <td>NaN</td>\n",
       "      <td>NaN</td>\n",
       "      <td>NaN</td>\n",
       "      <td>0</td>\n",
       "      <td>1</td>\n",
       "      <td>2010</td>\n",
       "      <td>WD</td>\n",
       "      <td>Normal</td>\n",
       "    </tr>\n",
       "  </tbody>\n",
       "</table>\n",
       "<p>5 rows × 80 columns</p>\n",
       "</div>"
      ],
      "text/plain": [
       "     Id  MSSubClass MSZoning  LotFrontage  LotArea Street Alley LotShape  \\\n",
       "0  1461          20       RH         80.0    11622   Pave   NaN      Reg   \n",
       "1  1462          20       RL         81.0    14267   Pave   NaN      IR1   \n",
       "2  1463          60       RL         74.0    13830   Pave   NaN      IR1   \n",
       "3  1464          60       RL         78.0     9978   Pave   NaN      IR1   \n",
       "4  1465         120       RL         43.0     5005   Pave   NaN      IR1   \n",
       "\n",
       "  LandContour Utilities  ... ScreenPorch PoolArea PoolQC  Fence MiscFeature  \\\n",
       "0         Lvl    AllPub  ...         120        0    NaN  MnPrv         NaN   \n",
       "1         Lvl    AllPub  ...           0        0    NaN    NaN        Gar2   \n",
       "2         Lvl    AllPub  ...           0        0    NaN  MnPrv         NaN   \n",
       "3         Lvl    AllPub  ...           0        0    NaN    NaN         NaN   \n",
       "4         HLS    AllPub  ...         144        0    NaN    NaN         NaN   \n",
       "\n",
       "  MiscVal MoSold  YrSold  SaleType  SaleCondition  \n",
       "0       0      6    2010        WD         Normal  \n",
       "1   12500      6    2010        WD         Normal  \n",
       "2       0      3    2010        WD         Normal  \n",
       "3       0      6    2010        WD         Normal  \n",
       "4       0      1    2010        WD         Normal  \n",
       "\n",
       "[5 rows x 80 columns]"
      ]
     },
     "execution_count": 2,
     "metadata": {},
     "output_type": "execute_result"
    }
   ],
   "source": [
    "main_test.head()"
   ]
  },
  {
   "cell_type": "code",
   "execution_count": 3,
   "metadata": {},
   "outputs": [
    {
     "data": {
      "text/html": [
       "<div>\n",
       "<style scoped>\n",
       "    .dataframe tbody tr th:only-of-type {\n",
       "        vertical-align: middle;\n",
       "    }\n",
       "\n",
       "    .dataframe tbody tr th {\n",
       "        vertical-align: top;\n",
       "    }\n",
       "\n",
       "    .dataframe thead th {\n",
       "        text-align: right;\n",
       "    }\n",
       "</style>\n",
       "<table border=\"1\" class=\"dataframe\">\n",
       "  <thead>\n",
       "    <tr style=\"text-align: right;\">\n",
       "      <th></th>\n",
       "      <th>Id</th>\n",
       "      <th>MSSubClass</th>\n",
       "      <th>MSZoning</th>\n",
       "      <th>LotFrontage</th>\n",
       "      <th>LotArea</th>\n",
       "      <th>Street</th>\n",
       "      <th>Alley</th>\n",
       "      <th>LotShape</th>\n",
       "      <th>LandContour</th>\n",
       "      <th>Utilities</th>\n",
       "      <th>...</th>\n",
       "      <th>PoolArea</th>\n",
       "      <th>PoolQC</th>\n",
       "      <th>Fence</th>\n",
       "      <th>MiscFeature</th>\n",
       "      <th>MiscVal</th>\n",
       "      <th>MoSold</th>\n",
       "      <th>YrSold</th>\n",
       "      <th>SaleType</th>\n",
       "      <th>SaleCondition</th>\n",
       "      <th>SalePrice</th>\n",
       "    </tr>\n",
       "  </thead>\n",
       "  <tbody>\n",
       "    <tr>\n",
       "      <th>0</th>\n",
       "      <td>1</td>\n",
       "      <td>60</td>\n",
       "      <td>RL</td>\n",
       "      <td>65.0</td>\n",
       "      <td>8450</td>\n",
       "      <td>Pave</td>\n",
       "      <td>NaN</td>\n",
       "      <td>Reg</td>\n",
       "      <td>Lvl</td>\n",
       "      <td>AllPub</td>\n",
       "      <td>...</td>\n",
       "      <td>0</td>\n",
       "      <td>NaN</td>\n",
       "      <td>NaN</td>\n",
       "      <td>NaN</td>\n",
       "      <td>0</td>\n",
       "      <td>2</td>\n",
       "      <td>2008</td>\n",
       "      <td>WD</td>\n",
       "      <td>Normal</td>\n",
       "      <td>208500</td>\n",
       "    </tr>\n",
       "    <tr>\n",
       "      <th>1</th>\n",
       "      <td>2</td>\n",
       "      <td>20</td>\n",
       "      <td>RL</td>\n",
       "      <td>80.0</td>\n",
       "      <td>9600</td>\n",
       "      <td>Pave</td>\n",
       "      <td>NaN</td>\n",
       "      <td>Reg</td>\n",
       "      <td>Lvl</td>\n",
       "      <td>AllPub</td>\n",
       "      <td>...</td>\n",
       "      <td>0</td>\n",
       "      <td>NaN</td>\n",
       "      <td>NaN</td>\n",
       "      <td>NaN</td>\n",
       "      <td>0</td>\n",
       "      <td>5</td>\n",
       "      <td>2007</td>\n",
       "      <td>WD</td>\n",
       "      <td>Normal</td>\n",
       "      <td>181500</td>\n",
       "    </tr>\n",
       "    <tr>\n",
       "      <th>2</th>\n",
       "      <td>3</td>\n",
       "      <td>60</td>\n",
       "      <td>RL</td>\n",
       "      <td>68.0</td>\n",
       "      <td>11250</td>\n",
       "      <td>Pave</td>\n",
       "      <td>NaN</td>\n",
       "      <td>IR1</td>\n",
       "      <td>Lvl</td>\n",
       "      <td>AllPub</td>\n",
       "      <td>...</td>\n",
       "      <td>0</td>\n",
       "      <td>NaN</td>\n",
       "      <td>NaN</td>\n",
       "      <td>NaN</td>\n",
       "      <td>0</td>\n",
       "      <td>9</td>\n",
       "      <td>2008</td>\n",
       "      <td>WD</td>\n",
       "      <td>Normal</td>\n",
       "      <td>223500</td>\n",
       "    </tr>\n",
       "    <tr>\n",
       "      <th>3</th>\n",
       "      <td>4</td>\n",
       "      <td>70</td>\n",
       "      <td>RL</td>\n",
       "      <td>60.0</td>\n",
       "      <td>9550</td>\n",
       "      <td>Pave</td>\n",
       "      <td>NaN</td>\n",
       "      <td>IR1</td>\n",
       "      <td>Lvl</td>\n",
       "      <td>AllPub</td>\n",
       "      <td>...</td>\n",
       "      <td>0</td>\n",
       "      <td>NaN</td>\n",
       "      <td>NaN</td>\n",
       "      <td>NaN</td>\n",
       "      <td>0</td>\n",
       "      <td>2</td>\n",
       "      <td>2006</td>\n",
       "      <td>WD</td>\n",
       "      <td>Abnorml</td>\n",
       "      <td>140000</td>\n",
       "    </tr>\n",
       "    <tr>\n",
       "      <th>4</th>\n",
       "      <td>5</td>\n",
       "      <td>60</td>\n",
       "      <td>RL</td>\n",
       "      <td>84.0</td>\n",
       "      <td>14260</td>\n",
       "      <td>Pave</td>\n",
       "      <td>NaN</td>\n",
       "      <td>IR1</td>\n",
       "      <td>Lvl</td>\n",
       "      <td>AllPub</td>\n",
       "      <td>...</td>\n",
       "      <td>0</td>\n",
       "      <td>NaN</td>\n",
       "      <td>NaN</td>\n",
       "      <td>NaN</td>\n",
       "      <td>0</td>\n",
       "      <td>12</td>\n",
       "      <td>2008</td>\n",
       "      <td>WD</td>\n",
       "      <td>Normal</td>\n",
       "      <td>250000</td>\n",
       "    </tr>\n",
       "  </tbody>\n",
       "</table>\n",
       "<p>5 rows × 81 columns</p>\n",
       "</div>"
      ],
      "text/plain": [
       "   Id  MSSubClass MSZoning  LotFrontage  LotArea Street Alley LotShape  \\\n",
       "0   1          60       RL         65.0     8450   Pave   NaN      Reg   \n",
       "1   2          20       RL         80.0     9600   Pave   NaN      Reg   \n",
       "2   3          60       RL         68.0    11250   Pave   NaN      IR1   \n",
       "3   4          70       RL         60.0     9550   Pave   NaN      IR1   \n",
       "4   5          60       RL         84.0    14260   Pave   NaN      IR1   \n",
       "\n",
       "  LandContour Utilities  ... PoolArea PoolQC Fence MiscFeature MiscVal MoSold  \\\n",
       "0         Lvl    AllPub  ...        0    NaN   NaN         NaN       0      2   \n",
       "1         Lvl    AllPub  ...        0    NaN   NaN         NaN       0      5   \n",
       "2         Lvl    AllPub  ...        0    NaN   NaN         NaN       0      9   \n",
       "3         Lvl    AllPub  ...        0    NaN   NaN         NaN       0      2   \n",
       "4         Lvl    AllPub  ...        0    NaN   NaN         NaN       0     12   \n",
       "\n",
       "  YrSold  SaleType  SaleCondition  SalePrice  \n",
       "0   2008        WD         Normal     208500  \n",
       "1   2007        WD         Normal     181500  \n",
       "2   2008        WD         Normal     223500  \n",
       "3   2006        WD        Abnorml     140000  \n",
       "4   2008        WD         Normal     250000  \n",
       "\n",
       "[5 rows x 81 columns]"
      ]
     },
     "execution_count": 3,
     "metadata": {},
     "output_type": "execute_result"
    }
   ],
   "source": [
    "main_train.head()"
   ]
  },
  {
   "cell_type": "code",
   "execution_count": 4,
   "metadata": {},
   "outputs": [
    {
     "data": {
      "text/html": [
       "<div>\n",
       "<style scoped>\n",
       "    .dataframe tbody tr th:only-of-type {\n",
       "        vertical-align: middle;\n",
       "    }\n",
       "\n",
       "    .dataframe tbody tr th {\n",
       "        vertical-align: top;\n",
       "    }\n",
       "\n",
       "    .dataframe thead th {\n",
       "        text-align: right;\n",
       "    }\n",
       "</style>\n",
       "<table border=\"1\" class=\"dataframe\">\n",
       "  <thead>\n",
       "    <tr style=\"text-align: right;\">\n",
       "      <th></th>\n",
       "      <th>Id</th>\n",
       "      <th>SalePrice</th>\n",
       "    </tr>\n",
       "  </thead>\n",
       "  <tbody>\n",
       "    <tr>\n",
       "      <th>0</th>\n",
       "      <td>1461</td>\n",
       "      <td>169277.052498</td>\n",
       "    </tr>\n",
       "    <tr>\n",
       "      <th>1</th>\n",
       "      <td>1462</td>\n",
       "      <td>187758.393989</td>\n",
       "    </tr>\n",
       "    <tr>\n",
       "      <th>2</th>\n",
       "      <td>1463</td>\n",
       "      <td>183583.683570</td>\n",
       "    </tr>\n",
       "    <tr>\n",
       "      <th>3</th>\n",
       "      <td>1464</td>\n",
       "      <td>179317.477511</td>\n",
       "    </tr>\n",
       "    <tr>\n",
       "      <th>4</th>\n",
       "      <td>1465</td>\n",
       "      <td>150730.079977</td>\n",
       "    </tr>\n",
       "  </tbody>\n",
       "</table>\n",
       "</div>"
      ],
      "text/plain": [
       "     Id      SalePrice\n",
       "0  1461  169277.052498\n",
       "1  1462  187758.393989\n",
       "2  1463  183583.683570\n",
       "3  1464  179317.477511\n",
       "4  1465  150730.079977"
      ]
     },
     "execution_count": 4,
     "metadata": {},
     "output_type": "execute_result"
    }
   ],
   "source": [
    "main_target_link.head()"
   ]
  },
  {
   "cell_type": "code",
   "execution_count": 5,
   "metadata": {},
   "outputs": [
    {
     "data": {
      "text/plain": [
       "<AxesSubplot:>"
      ]
     },
     "execution_count": 5,
     "metadata": {},
     "output_type": "execute_result"
    },
    {
     "data": {
      "image/png": "[encoded data removed]",
      "text/plain": [
       "<Figure size 432x288 with 1 Axes>"
      ]
     },
     "metadata": {
      "needs_background": "light"
     },
     "output_type": "display_data"
    }
   ],
   "source": [
    "main_train[\"SalePrice\"].hist()"
   ]
  },
  {
   "cell_type": "code",
   "execution_count": 6,
   "metadata": {},
   "outputs": [
    {
     "data": {
      "text/plain": [
       "<AxesSubplot:>"
      ]
     },
     "execution_count": 6,
     "metadata": {},
     "output_type": "execute_result"
    },
    {
     "data": {
      "image/png": "[encoded data removed]",
      "text/plain": [
       "<Figure size 432x288 with 1 Axes>"
      ]
     },
     "metadata": {
      "needs_background": "light"
     },
     "output_type": "display_data"
    }
   ],
   "source": [
    "np.log(main_train['SalePrice']).hist()"
   ]
  },
  {
   "cell_type": "markdown",
   "metadata": {},
   "source": [
    "## Test-Train data comparison"
   ]
  },
  {
   "cell_type": "code",
   "execution_count": 7,
   "metadata": {},
   "outputs": [
    {
     "name": "stdout",
     "output_type": "stream",
     "text": [
      "object     43\n",
      "int64      35\n",
      "float64     3\n",
      "dtype: int64\n",
      "object     43\n",
      "int64      26\n",
      "float64    11\n",
      "dtype: int64\n"
     ]
    }
   ],
   "source": [
    "#Check data types count\n",
    "print(main_train.dtypes.value_counts())\n",
    "print(main_test.dtypes.value_counts())"
   ]
  },
  {
   "cell_type": "code",
   "execution_count": 8,
   "metadata": {},
   "outputs": [
    {
     "data": {
      "text/plain": [
       "OverallQual     0.790982\n",
       "GrLivArea       0.708624\n",
       "GarageCars      0.640409\n",
       "GarageArea      0.623431\n",
       "TotalBsmtSF     0.613581\n",
       "1stFlrSF        0.605852\n",
       "FullBath        0.560664\n",
       "TotRmsAbvGrd    0.533723\n",
       "YearBuilt       0.522897\n",
       "YearRemodAdd    0.507101\n",
       "GarageYrBlt     0.486362\n",
       "MasVnrArea      0.477493\n",
       "Fireplaces      0.466929\n",
       "BsmtFinSF1      0.386420\n",
       "LotFrontage     0.351799\n",
       "WoodDeckSF      0.324413\n",
       "2ndFlrSF        0.319334\n",
       "OpenPorchSF     0.315856\n",
       "HalfBath        0.284108\n",
       "LotArea         0.263843\n",
       "Name: SalePrice, dtype: float64"
      ]
     },
     "execution_count": 8,
     "metadata": {},
     "output_type": "execute_result"
    }
   ],
   "source": [
    "correlation = main_train.corr()\n",
    "main_train_corr = correlation['SalePrice'].sort_values(ascending = False)[1:][:20]\n",
    "main_train_corr"
   ]
  },
  {
   "cell_type": "markdown",
   "metadata": {},
   "source": [
    "## Functions"
   ]
  },
  {
   "cell_type": "code",
   "execution_count": 9,
   "metadata": {},
   "outputs": [],
   "source": [
    "def custmDrop(df):\n",
    "    res = df\n",
    "    for col in df.columns:\n",
    "        if (len(df[col].unique()) == 1 or df[col].isna().mean()>0.3):\n",
    "            res = res.drop(col,inplace=False,axis=1)\n",
    "    return res\n",
    "\n",
    "def medianReplacer(df):\n",
    "    res = df.fillna(df.mean())\n",
    "    return res\n",
    "\n",
    "def catColsNan(df):\n",
    "    res = df.fillna(df.value_counts().idxmax())\n",
    "    return res\n"
   ]
  },
  {
   "cell_type": "code",
   "execution_count": 10,
   "metadata": {},
   "outputs": [],
   "source": [
    "from sklearn.feature_selection import SelectKBest, f_regression,VarianceThreshold\n",
    "def SelectKbest_cstm(df,df_traget,i):\n",
    "    #for i in range(2,df.shape[1],2):\n",
    "    selector = SelectKBest(f_regression, k=i)\n",
    "    selector_fit = selector.fit(df, df_traget)\n",
    "    cols = selector_fit.get_support(indices=True)\n",
    "    df_new = df.iloc[:,cols]\n",
    "    return df_new\n",
    "\n",
    "def SelectVariance_cstm(df,p):\n",
    "    selector = VarianceThreshold(threshold=(p * (1 - p)))\n",
    "    selector_fit = selector.fit_transform(df)\n",
    "    cols = selector.get_support(indices=False)\n",
    "    df_new = df.iloc[:,cols]\n",
    "    return df_new"
   ]
  },
  {
   "cell_type": "markdown",
   "metadata": {},
   "source": [
    "# Prepare Data"
   ]
  },
  {
   "cell_type": "markdown",
   "metadata": {},
   "source": [
    "## Custom features"
   ]
  },
  {
   "cell_type": "code",
   "execution_count": 11,
   "metadata": {},
   "outputs": [
    {
     "data": {
      "text/plain": [
       "PoolQC          0.995205\n",
       "MiscFeature     0.963014\n",
       "Alley           0.937671\n",
       "Fence           0.807534\n",
       "FireplaceQu     0.472603\n",
       "LotFrontage     0.177397\n",
       "GarageCond      0.055479\n",
       "GarageType      0.055479\n",
       "GarageYrBlt     0.055479\n",
       "GarageFinish    0.055479\n",
       "GarageQual      0.055479\n",
       "BsmtExposure    0.026027\n",
       "BsmtFinType2    0.026027\n",
       "BsmtFinType1    0.025342\n",
       "BsmtCond        0.025342\n",
       "BsmtQual        0.025342\n",
       "MasVnrArea      0.005479\n",
       "MasVnrType      0.005479\n",
       "Electrical      0.000685\n",
       "Utilities       0.000000\n",
       "dtype: float64"
      ]
     },
     "execution_count": 11,
     "metadata": {},
     "output_type": "execute_result"
    }
   ],
   "source": [
    "main_train.isna().mean().sort_values(ascending = False).head(20)"
   ]
  },
  {
   "cell_type": "markdown",
   "metadata": {},
   "source": [
    "### PoolExist?"
   ]
  },
  {
   "cell_type": "code",
   "execution_count": 12,
   "metadata": {},
   "outputs": [
    {
     "name": "stdout",
     "output_type": "stream",
     "text": [
      "     PoolQC  PoolArea\n",
      "0       NaN         0\n",
      "197      Ex       512\n",
      "810      Fa       648\n",
      "1170     Gd       576\n",
      "1182     Ex       555\n",
      "1298     Gd       480\n",
      "1386     Fa       519\n",
      "1423     Gd       738\n"
     ]
    },
    {
     "data": {
      "text/plain": [
       "0    1453\n",
       "1       7\n",
       "Name: PoolExist, dtype: int64"
      ]
     },
     "execution_count": 12,
     "metadata": {},
     "output_type": "execute_result"
    }
   ],
   "source": [
    "print(main_train[['PoolQC','PoolArea']].drop_duplicates())\n",
    "main_train['PoolExist'] = np.where(main_train['PoolQC'].notna() | main_train['PoolArea']!=0 ,1,0)    \n",
    "main_test['PoolExist'] = np.where(main_test['PoolQC'].notna() | main_test['PoolArea']!=0 ,1,0)\n",
    "main_train['PoolExist'].value_counts()\n"
   ]
  },
  {
   "cell_type": "markdown",
   "metadata": {},
   "source": [
    "### FenceExist?"
   ]
  },
  {
   "cell_type": "code",
   "execution_count": 13,
   "metadata": {},
   "outputs": [
    {
     "name": "stdout",
     "output_type": "stream",
     "text": [
      "0        NaN\n",
      "5      MnPrv\n",
      "14      GdWo\n",
      "15     GdPrv\n",
      "129     MnWw\n",
      "Name: Fence, dtype: object\n"
     ]
    },
    {
     "data": {
      "text/plain": [
       "0    1179\n",
       "1     281\n",
       "Name: FenceExist, dtype: int64"
      ]
     },
     "execution_count": 13,
     "metadata": {},
     "output_type": "execute_result"
    }
   ],
   "source": [
    "print(main_train['Fence'].drop_duplicates())\n",
    "main_train['FenceExist'] = np.where(main_train['Fence'].notna(),1,0)    \n",
    "main_test['FenceExist'] = np.where(main_test['Fence'].notna(),1,0)\n",
    "main_train['FenceExist'].value_counts()"
   ]
  },
  {
   "cell_type": "markdown",
   "metadata": {},
   "source": [
    "### MiscFeatureExist?"
   ]
  },
  {
   "cell_type": "code",
   "execution_count": 14,
   "metadata": {},
   "outputs": [
    {
     "name": "stdout",
     "output_type": "stream",
     "text": [
      "0        NaN\n",
      "5       Shed\n",
      "346     Gar2\n",
      "705     Othr\n",
      "1386    TenC\n",
      "Name: MiscFeature, dtype: object\n"
     ]
    },
    {
     "data": {
      "text/plain": [
       "0    1406\n",
       "1      54\n",
       "Name: MiscFeatureExist, dtype: int64"
      ]
     },
     "execution_count": 14,
     "metadata": {},
     "output_type": "execute_result"
    }
   ],
   "source": [
    "print(main_train['MiscFeature'].drop_duplicates())\n",
    "main_train['MiscFeatureExist'] = np.where(main_train['MiscFeature'].notna(),1,0)    \n",
    "main_test['MiscFeatureExist'] = np.where(main_test['MiscFeature'].notna(),1,0)\n",
    "main_train['MiscFeatureExist'].value_counts()"
   ]
  },
  {
   "cell_type": "code",
   "execution_count": 15,
   "metadata": {},
   "outputs": [
    {
     "data": {
      "text/plain": [
       "LotFrontage     0.177397\n",
       "GarageFinish    0.055479\n",
       "GarageCond      0.055479\n",
       "GarageYrBlt     0.055479\n",
       "GarageQual      0.055479\n",
       "                  ...   \n",
       "BedroomAbvGr    0.000000\n",
       "KitchenAbvGr    0.000000\n",
       "KitchenQual     0.000000\n",
       "TotRmsAbvGrd    0.000000\n",
       "Id              0.000000\n",
       "Length: 80, dtype: float64"
      ]
     },
     "execution_count": 15,
     "metadata": {},
     "output_type": "execute_result"
    }
   ],
   "source": [
    "main_train_ = custmDrop(main_train)\n",
    "main_test_ = custmDrop(main_test)\n",
    "\n",
    "main_train_target = main_train_.sort_values(by=['Id'])['SalePrice'].astype('float64')\n",
    "#main_test_target = main_target_link.sort_values(by=['Id'])['SalePrice'].astype('float64')\n",
    "\n",
    "main_train_['TotalSF'] = main_train_['TotalBsmtSF'] + main_train_['1stFlrSF'] + main_train_['2ndFlrSF']\n",
    "main_test_['TotalSF'] = main_test_['TotalBsmtSF'] + main_test_['1stFlrSF'] + main_test_['2ndFlrSF']\n",
    "\n",
    "train_rows_count = main_train_.shape[0]\n",
    "\n",
    "main_train_.isna().mean().sort_values(ascending = False)"
   ]
  },
  {
   "cell_type": "markdown",
   "metadata": {},
   "source": [
    "## General"
   ]
  },
  {
   "cell_type": "markdown",
   "metadata": {},
   "source": [
    "## Int fields"
   ]
  },
  {
   "cell_type": "code",
   "execution_count": 16,
   "metadata": {},
   "outputs": [
    {
     "name": "stdout",
     "output_type": "stream",
     "text": [
      "(1460, 37) (1459, 28)\n",
      "(1460, 37) (1459, 28)\n"
     ]
    }
   ],
   "source": [
    "from sklearn.feature_selection import SelectKBest, f_regression, chi2\n",
    "\n",
    "#MinMax int64 fields\n",
    "main_train_int = main_train_.sort_values(by=['Id']).loc[ : , ~main_train_.columns.isin(['Id', 'SalePrice'])].select_dtypes(include=['int64','int32'])#.fillna(np.nan)\n",
    "main_train_int = medianReplacer(main_train_int)\n",
    "main_train_int = main_train_int.apply(lambda x: (x-min(x))/(max(x)-min(x)))\n",
    "\n",
    "#main_train_int_new = SelectKBest(chi2, k=10).fit_transform(main_train_int, main_train_target)\n",
    "      \n",
    "main_test_int = main_test_.sort_values(by=['Id']).loc[ : , ~main_test_.columns.isin(['Id', 'SalePrice'])].select_dtypes(include=['int64','int32'])#.fillna(np.nan)\n",
    "main_test_int = medianReplacer(main_test_int)\n",
    "main_test_int = main_test_int.apply(lambda x: (x-min(x))/(max(x)-min(x)))\n",
    "\n",
    "print(main_train_int.shape, main_test_int.shape)\n",
    "\n",
    "main_train_int_new = main_train_int#SelectKbest_cstm(main_train_int, main_train_target,25)\n",
    "\n",
    "print(main_train_int_new.shape, main_test_int.shape)"
   ]
  },
  {
   "cell_type": "markdown",
   "metadata": {},
   "source": [
    "## Float fields"
   ]
  },
  {
   "cell_type": "code",
   "execution_count": 17,
   "metadata": {},
   "outputs": [
    {
     "name": "stdout",
     "output_type": "stream",
     "text": [
      "(1460, 3) (1459, 12)\n",
      "(1460, 3) (1459, 12)\n"
     ]
    },
    {
     "data": {
      "text/html": [
       "<div>\n",
       "<style scoped>\n",
       "    .dataframe tbody tr th:only-of-type {\n",
       "        vertical-align: middle;\n",
       "    }\n",
       "\n",
       "    .dataframe tbody tr th {\n",
       "        vertical-align: top;\n",
       "    }\n",
       "\n",
       "    .dataframe thead th {\n",
       "        text-align: right;\n",
       "    }\n",
       "</style>\n",
       "<table border=\"1\" class=\"dataframe\">\n",
       "  <thead>\n",
       "    <tr style=\"text-align: right;\">\n",
       "      <th></th>\n",
       "      <th>LotFrontage</th>\n",
       "      <th>MasVnrArea</th>\n",
       "      <th>GarageYrBlt</th>\n",
       "    </tr>\n",
       "  </thead>\n",
       "  <tbody>\n",
       "    <tr>\n",
       "      <th>0</th>\n",
       "      <td>0.150685</td>\n",
       "      <td>0.122500</td>\n",
       "      <td>0.936364</td>\n",
       "    </tr>\n",
       "    <tr>\n",
       "      <th>1</th>\n",
       "      <td>0.202055</td>\n",
       "      <td>0.000000</td>\n",
       "      <td>0.690909</td>\n",
       "    </tr>\n",
       "    <tr>\n",
       "      <th>2</th>\n",
       "      <td>0.160959</td>\n",
       "      <td>0.101250</td>\n",
       "      <td>0.918182</td>\n",
       "    </tr>\n",
       "    <tr>\n",
       "      <th>3</th>\n",
       "      <td>0.133562</td>\n",
       "      <td>0.000000</td>\n",
       "      <td>0.890909</td>\n",
       "    </tr>\n",
       "    <tr>\n",
       "      <th>4</th>\n",
       "      <td>0.215753</td>\n",
       "      <td>0.218750</td>\n",
       "      <td>0.909091</td>\n",
       "    </tr>\n",
       "    <tr>\n",
       "      <th>...</th>\n",
       "      <td>...</td>\n",
       "      <td>...</td>\n",
       "      <td>...</td>\n",
       "    </tr>\n",
       "    <tr>\n",
       "      <th>1455</th>\n",
       "      <td>0.140411</td>\n",
       "      <td>0.000000</td>\n",
       "      <td>0.900000</td>\n",
       "    </tr>\n",
       "    <tr>\n",
       "      <th>1456</th>\n",
       "      <td>0.219178</td>\n",
       "      <td>0.074375</td>\n",
       "      <td>0.709091</td>\n",
       "    </tr>\n",
       "    <tr>\n",
       "      <th>1457</th>\n",
       "      <td>0.154110</td>\n",
       "      <td>0.000000</td>\n",
       "      <td>0.372727</td>\n",
       "    </tr>\n",
       "    <tr>\n",
       "      <th>1458</th>\n",
       "      <td>0.160959</td>\n",
       "      <td>0.000000</td>\n",
       "      <td>0.454545</td>\n",
       "    </tr>\n",
       "    <tr>\n",
       "      <th>1459</th>\n",
       "      <td>0.184932</td>\n",
       "      <td>0.000000</td>\n",
       "      <td>0.590909</td>\n",
       "    </tr>\n",
       "  </tbody>\n",
       "</table>\n",
       "<p>1460 rows × 3 columns</p>\n",
       "</div>"
      ],
      "text/plain": [
       "      LotFrontage  MasVnrArea  GarageYrBlt\n",
       "0        0.150685    0.122500     0.936364\n",
       "1        0.202055    0.000000     0.690909\n",
       "2        0.160959    0.101250     0.918182\n",
       "3        0.133562    0.000000     0.890909\n",
       "4        0.215753    0.218750     0.909091\n",
       "...           ...         ...          ...\n",
       "1455     0.140411    0.000000     0.900000\n",
       "1456     0.219178    0.074375     0.709091\n",
       "1457     0.154110    0.000000     0.372727\n",
       "1458     0.160959    0.000000     0.454545\n",
       "1459     0.184932    0.000000     0.590909\n",
       "\n",
       "[1460 rows x 3 columns]"
      ]
     },
     "execution_count": 17,
     "metadata": {},
     "output_type": "execute_result"
    }
   ],
   "source": [
    "#MinMax float64 fields\n",
    "main_train_float = main_train_.sort_values(by=['Id']).loc[ : , ~main_train_.columns.isin(['Id', 'SalePrice'])].select_dtypes(include=['float64'])#.fillna(np.nan)\n",
    "main_train_float = medianReplacer(main_train_float)\n",
    "main_train_float = main_train_float.apply(lambda x: (x-min(x))/(max(x)-min(x)))\n",
    "      \n",
    "main_test_float = main_test_.sort_values(by=['Id']).loc[ : , ~main_test_.columns.isin(['Id', 'SalePrice'])].select_dtypes(include=['float64'])#.fillna(np.nan)\n",
    "main_test_float = medianReplacer(main_test_float)\n",
    "main_test_float = main_test_float.apply(lambda x: (x-min(x))/(max(x)-min(x)))\n",
    "print(main_train_float.shape, main_test_float.shape)\n",
    "\n",
    "main_train_float_new = main_train_float#SelectKbest_cstm(main_train_float, main_train_target,3)\n",
    "\n",
    "print(main_train_float.shape, main_test_float.shape)\n",
    "main_train_float_new"
   ]
  },
  {
   "cell_type": "markdown",
   "metadata": {},
   "source": [
    "## Object fields"
   ]
  },
  {
   "cell_type": "code",
   "execution_count": 18,
   "metadata": {},
   "outputs": [
    {
     "name": "stdout",
     "output_type": "stream",
     "text": [
      "main_train_obj_shape:  (1460, 234) main_test_obj_shape:  (1459, 218)\n",
      "(1460, 154) (1460, 154) (1459, 155)\n"
     ]
    }
   ],
   "source": [
    "#OneHot object fields\n",
    "main_train_obj = main_train_.sort_values(by=['Id']).loc[ : , ~main_train_.columns.isin(['Id', 'SalePrice'])].select_dtypes(include=['O'])#.fillna(\"None\")\n",
    "main_test_obj = main_test_.sort_values(by=['Id']).loc[ : , ~main_test_.columns.isin(['Id', 'SalePrice'])].select_dtypes(include=['O'])#.fillna(\"None\")\n",
    "\n",
    "for col in main_train_obj.columns:\n",
    "    catColsNan(main_train_obj[col])\n",
    "    catColsNan(main_test_obj[col])\n",
    "\n",
    "#print(SelectVariance_cstm(main_train_obj_new,0.9).shape)    \n",
    "    \n",
    "main_train_obj = pd.get_dummies(main_train_obj, dtype=int)#.fillna(axis=0,method='ffill')\n",
    "main_test_obj = pd.get_dummies(main_test_obj, dtype=int)#.fillna(axis=0,method='ffill')\n",
    "\n",
    "main_train_obj = custmDrop(main_train_obj)\n",
    "main_test_obj  = custmDrop(main_test_obj )\n",
    "\n",
    "print('main_train_obj_shape: ',main_train_obj.shape,'main_test_obj_shape: ', main_test_obj.shape)\n",
    "\n",
    "main_train_obj = SelectVariance_cstm(main_train_obj,0.99)\n",
    "main_test_obj = SelectVariance_cstm(main_test_obj,0.99)\n",
    "\n",
    "#selector = SelectKBest(chi2, k=200)\n",
    "#selector.fit(main_train_obj, main_train_target)\n",
    "#\n",
    "#cols = selector.get_support(indices=True)\n",
    "main_train_obj_new = main_train_obj#SelectKbest_cstm(main_train_obj, main_train_target,200)#main_train_obj.iloc[:,cols]\n",
    "\n",
    "\n",
    "print(main_train_obj_new.shape,main_train_obj.shape, main_test_obj.shape)"
   ]
  },
  {
   "cell_type": "markdown",
   "metadata": {},
   "source": [
    "## Сombine fields"
   ]
  },
  {
   "cell_type": "code",
   "execution_count": 19,
   "metadata": {},
   "outputs": [
    {
     "name": "stdout",
     "output_type": "stream",
     "text": [
      "main_train_calc_shape:  (1460, 188) main_test_calc_shape:  (1459, 188)\n"
     ]
    }
   ],
   "source": [
    "\n",
    "\n",
    "dfListTrain = [main_train_int_new, main_train_float_new, main_train_obj_new]\n",
    "main_train_calc = pd.concat(dfListTrain,axis=1, join=\"inner\")\n",
    "\n",
    "dfListTest = [main_test_int, main_test_float, main_test_obj] \n",
    "main_test_calc = pd.concat(dfListTest,axis=1, join=\"inner\")\n",
    "\n",
    "#Concatinate fields\n",
    "test_train_concat = pd.concat(objs=[main_train_calc, main_test_calc], axis=0, join=\"inner\")\n",
    "test_train_concat = pd.get_dummies(test_train_concat, dtype=int)#.fillna(0)\n",
    "test_train_concat = custmDrop(test_train_concat)\n",
    "main_train_calc = test_train_concat[:train_rows_count].reset_index().drop('index',axis=1)\n",
    "main_test_calc = test_train_concat[train_rows_count:].reset_index().drop('index',axis=1)\n",
    "\n",
    "#main_train_calc = SelectKbest_cstm(main_train_calc, main_train_target,100)\n",
    "main_test_calc_new = main_test_calc[list(main_train_calc.columns)]\n",
    "\n",
    "print('main_train_calc_shape: ',main_train_calc.shape,'main_test_calc_shape: ',main_test_calc_new.shape)"
   ]
  },
  {
   "cell_type": "code",
   "execution_count": 20,
   "metadata": {},
   "outputs": [
    {
     "name": "stdout",
     "output_type": "stream",
     "text": [
      "SaleCondition_Partial    0.0\n",
      "Neighborhood_CollgCr     0.0\n",
      "Neighborhood_NoRidge     0.0\n",
      "Neighborhood_NWAmes      0.0\n",
      "Neighborhood_NAmes       0.0\n",
      "Neighborhood_Mitchel     0.0\n",
      "Neighborhood_MeadowV     0.0\n",
      "Neighborhood_IDOTRR      0.0\n",
      "Neighborhood_Gilbert     0.0\n",
      "Neighborhood_Edwards     0.0\n",
      "dtype: float64\n",
      "\n",
      "main_train_calc\n",
      "int32      148\n",
      "float64     40\n",
      "dtype: int64\n",
      "\n",
      "main_train_int_new\n",
      "float64    37\n",
      "dtype: int64\n",
      "\n",
      "main_train_float_new\n",
      "float64    3\n",
      "dtype: int64\n",
      "\n",
      "main_train_obj_new\n",
      "int32    154\n",
      "dtype: int64\n"
     ]
    }
   ],
   "source": [
    "print(main_train_calc.isna().mean().sort_values(ascending = False).head(10))\n",
    "print('\\nmain_train_calc')\n",
    "print(main_train_calc.dtypes.value_counts())\n",
    "print('\\nmain_train_int_new')\n",
    "print(main_train_int_new.dtypes.value_counts())\n",
    "print('\\nmain_train_float_new')\n",
    "print(main_train_float_new.dtypes.value_counts())\n",
    "print('\\nmain_train_obj_new')\n",
    "print(main_train_obj_new.dtypes.value_counts())"
   ]
  },
  {
   "cell_type": "code",
   "execution_count": 21,
   "metadata": {},
   "outputs": [
    {
     "data": {
      "text/plain": [
       "SaleCondition_Partial    0.0\n",
       "Neighborhood_CollgCr     0.0\n",
       "Neighborhood_NoRidge     0.0\n",
       "Neighborhood_NWAmes      0.0\n",
       "Neighborhood_NAmes       0.0\n",
       "                        ... \n",
       "ExterCond_TA             0.0\n",
       "ExterCond_Gd             0.0\n",
       "ExterCond_Fa             0.0\n",
       "ExterQual_TA             0.0\n",
       "MSSubClass               0.0\n",
       "Length: 188, dtype: float64"
      ]
     },
     "execution_count": 21,
     "metadata": {},
     "output_type": "execute_result"
    }
   ],
   "source": [
    "\n",
    "main_test_calc_new.isna().mean().sort_values(ascending = False)#.head(20)"
   ]
  },
  {
   "cell_type": "markdown",
   "metadata": {},
   "source": [
    "## Calculations"
   ]
  },
  {
   "cell_type": "code",
   "execution_count": 22,
   "metadata": {},
   "outputs": [],
   "source": [
    "from math import *\n",
    "def scoreLogMSE(clf,target,df):\n",
    "    score = sqrt(mean_squared_error(np.log(target), np.log(clf.predict(df))))\n",
    "    return score\n",
    "def scoreMSE(clf,target,df):\n",
    "    score = sqrt(mean_squared_error(target, clf.predict(df)))\n",
    "    return score"
   ]
  },
  {
   "cell_type": "markdown",
   "metadata": {},
   "source": [
    "## Random Forest"
   ]
  },
  {
   "cell_type": "code",
   "execution_count": 23,
   "metadata": {},
   "outputs": [
    {
     "name": "stdout",
     "output_type": "stream",
     "text": [
      "0.8711405370890365\n",
      "0.1384136764109239\n",
      "Wall time: 1.5 s\n"
     ]
    }
   ],
   "source": [
    "%%time\n",
    "from sklearn.ensemble import RandomForestRegressor\n",
    "from sklearn.model_selection import train_test_split\n",
    "from sklearn.metrics import mean_squared_error\n",
    "from math import *\n",
    "\n",
    "main_train_target = main_train_.sort_values(by=['Id'])['SalePrice'].astype('float64')\n",
    "train, test, target_train, target_test = train_test_split(main_train_calc, np.log1p(main_train_target),test_size=0.3, shuffle=False)\n",
    "\n",
    "\n",
    "#rf = RandomForestRegressor(max_features = 'sqrt', n_estimators=1000)\n",
    "rf =RandomForestRegressor(criterion = 'mse', max_features = 'sqrt', \n",
    "                                  min_samples_leaf = 1, min_samples_split = 2, n_estimators = 500)\n",
    "\n",
    "\n",
    "rf_fit = rf.fit(train, target_train)\n",
    "predict_rf_test = rf_fit.predict(test)\n",
    "print(rf_fit.score(test,target_test))\n",
    "\n",
    "score = sqrt(mean_squared_error(target_test, rf_fit.predict(test)))\n",
    "print(score)"
   ]
  },
  {
   "cell_type": "markdown",
   "metadata": {},
   "source": [
    "## LGBM"
   ]
  },
  {
   "cell_type": "code",
   "execution_count": 24,
   "metadata": {},
   "outputs": [
    {
     "name": "stdout",
     "output_type": "stream",
     "text": [
      "0.1227366611100195\n"
     ]
    }
   ],
   "source": [
    "import lightgbm as lgbm\n",
    "from sklearn.ensemble import StackingRegressor\n",
    "import xgboost as xgb\n",
    "from sklearn.ensemble import RandomForestRegressor\n",
    "from sklearn.ensemble import GradientBoostingRegressor\n",
    "from sklearn.model_selection import train_test_split\n",
    "from sklearn.metrics import mean_squared_error\n",
    "from math import *\n",
    "\n",
    "main_train_target = main_train_.sort_values(by=['Id'])['SalePrice'].astype('float64')\n",
    "\n",
    "train, test, target_train, target_test = train_test_split(main_train_calc, np.log1p(main_train_target),test_size=0.3, shuffle=False)\n",
    "\n",
    "clfs = [\n",
    "    ('gbr', GradientBoostingRegressor(criterion = 'mse', n_estimators = 1000, loss = 'lad', max_depth = 5)),\n",
    "    ('RF', RandomForestRegressor(max_features = 'auto', n_estimators = 1000,  max_depth = 5)),\n",
    "    ('lgbm', lgbm.LGBMRegressor(boosting_type = 'goss',  max_depth = 5, n_estimators = 650)),  \n",
    "    #('lgbm', lgbm.LGBMRegressor(boosting_type = 'dart', learning_rate = 0.2, max_depth = 3, n_estimators = 175)),\n",
    "    #('xgb', xgb.XGBRegressor(booster  = 'gbtree', n_estimators = 300)),\n",
    " ]\n",
    "\n",
    "\n",
    "stck = StackingRegressor(estimators = clfs, n_jobs = -1, cv = 5)#,final_estimator = lgbm.LGBMRegressor())\n",
    "\n",
    "stck_fit = stck.fit(train, target_train)\n",
    "\n",
    "score = scoreMSE(stck_fit,target_test,test)#sqrt(mean_squared_error(target_test, stck_fit.predict(test)))\n",
    "print(score)"
   ]
  },
  {
   "cell_type": "code",
   "execution_count": 25,
   "metadata": {},
   "outputs": [],
   "source": [
    "stck_pred_test = np.expm1(stck_fit.predict(main_test_calc_new))\n",
    "\n",
    "submission = pd.DataFrame({\n",
    "        \"Id\": main_target_link[\"Id\"],\n",
    "        \"SalePrice\": stck_pred_test })\n",
    "submission.to_csv('submission.csv', index=False)"
   ]
  },
  {
   "cell_type": "markdown",
   "metadata": {},
   "source": [
    "## Stacking"
   ]
  },
  {
   "cell_type": "code",
   "execution_count": 30,
   "metadata": {},
   "outputs": [
    {
     "name": "stdout",
     "output_type": "stream",
     "text": [
      "0.11558375327946417 0.11558375327946417\n"
     ]
    }
   ],
   "source": [
    "from sklearn.feature_selection import f_regression\n",
    "import lightgbm as lgbm\n",
    "from sklearn.ensemble import StackingRegressor\n",
    "import xgboost as xgb\n",
    "from sklearn.ensemble import RandomForestRegressor\n",
    "from sklearn.ensemble import GradientBoostingRegressor\n",
    "from sklearn.model_selection import train_test_split\n",
    "from sklearn.metrics import roc_auc_score\n",
    "from sklearn.kernel_ridge import KernelRidge\n",
    "from sklearn.linear_model import LinearRegression\n",
    "from sklearn.metrics import mean_squared_error\n",
    "from math import *\n",
    "from sklearn.ensemble import BaggingRegressor\n",
    "import warnings\n",
    "warnings.filterwarnings(\"ignore\")\n",
    "\n",
    "xgbR1 = xgb.XGBRegressor(booster  = 'gbtree', n_estimators = 200, max_depth = 3, tree_method = 'hist',\n",
    "                        subsample = 0.7, colsample_bynode = 0.7, max_bin = 384)\n",
    "\n",
    "train, test, target_train, target_test = train_test_split(main_train_calc, np.log1p(main_train_target),test_size=0.3, shuffle=False)\n",
    "    \n",
    "clfs = [\n",
    "    ('gbr', GradientBoostingRegressor(criterion = 'friedman_mse', max_depth = 5, n_estimators = 400)),\n",
    "    ('RF', RandomForestRegressor(criterion = 'mse', max_features = 'sqrt', \n",
    "                                  min_samples_leaf = 1, min_samples_split = 2, n_estimators = 500)),\n",
    "    ('lgbm', lgbm.LGBMRegressor(boosting_type = 'dart', learning_rate = 0.2, max_depth = 3, n_estimators = 400)),\n",
    "    ('xgb', xgbR1), \n",
    "    ('BR', BaggingRegressor(base_estimator = xgbR1, bootstrap = False, bootstrap_features = True, \n",
    "                       n_estimators = 130, oob_score = False))\n",
    "]\n",
    "    \n",
    "stck = StackingRegressor(estimators = clfs, n_jobs = -1, cv = 7)\n",
    "\n",
    "stck_fit = stck.fit(train, target_train)\n",
    "\n",
    "score = sqrt(mean_squared_error(target_test, stck.predict(test)))\n",
    "MyScore = scoreMSE(stck_fit,target_test,test)\n",
    "print(score,MyScore)"
   ]
  },
  {
   "cell_type": "code",
   "execution_count": 31,
   "metadata": {},
   "outputs": [],
   "source": [
    "stck_fit = stck.fit(main_train_calc, np.log1p(main_train_target))\n",
    "stck_pred_test = np.expm1(stck_fit.predict(main_test_calc_new))\n",
    "submission = pd.DataFrame({\n",
    "        \"Id\": main_target_link[\"Id\"],\n",
    "        \"SalePrice\": stck_pred_test })\n",
    "submission.to_csv('submission.csv', index=False)"
   ]
  },
  {
   "cell_type": "code",
   "execution_count": null,
   "metadata": {},
   "outputs": [],
   "source": []
  },
  {
   "cell_type": "code",
   "execution_count": 27,
   "metadata": {},
   "outputs": [
    {
     "name": "stdout",
     "output_type": "stream",
     "text": [
      "0.15730725190999423\n"
     ]
    }
   ],
   "source": [
    "import numpy as np\n",
    "from sklearn.linear_model import LinearRegression\n",
    "\n",
    "main_train_target = main_train_.sort_values(by=['Id'])['SalePrice'].astype('float64')\n",
    "\n",
    "train, test, target_train, target_test = train_test_split(main_train_calc, np.log1p(main_train_target),test_size=0.3, shuffle=False)\n",
    "\n",
    "lin = LinearRegression()\n",
    "\n",
    "lin_fit = lin.fit(train, target_train)\n",
    "\n",
    "score = scoreMSE(lin_fit,target_test,test)#sqrt(mean_squared_error(target_test, stck_fit.predict(test)))\n",
    "print(score)"
   ]
  },
  {
   "cell_type": "code",
   "execution_count": null,
   "metadata": {},
   "outputs": [],
   "source": []
  },
  {
   "cell_type": "code",
   "execution_count": null,
   "metadata": {},
   "outputs": [],
   "source": []
  }
 ],
 "metadata": {
  "kernelspec": {
   "display_name": "Python 3",
   "language": "python",
   "name": "python3"
  },
  "language_info": {
   "codemirror_mode": {
    "name": "ipython",
    "version": 3
   },
   "file_extension": ".py",
   "mimetype": "text/x-python",
   "name": "python",
   "nbconvert_exporter": "python",
   "pygments_lexer": "ipython3",
   "version": "3.8.5"
  }
 },
 "nbformat": 4,
 "nbformat_minor": 4
}
