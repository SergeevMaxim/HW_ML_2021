{
 "cells": [
  {
   "cell_type": "markdown",
   "metadata": {},
   "source": [
    "### Задачи к Лекции 4\n",
    "\n",
    "__Исходные данные__ \n",
    "\n",
    "Дан файл **\"mlbootcamp5_train.csv\"**. В нем содержатся данные об опросе 70000 пациентов с целью определения наличия заболеваний сердечно-сосудистой системы (ССЗ). Данные в файле промаркированы и если у человека имееются ССЗ, то значение **cardio** будет равно 1, в противном случае - 0. Описание и значения полей представлены во второй лекции.\n",
    "\n",
    "__Загрузка файла__"
   ]
  },
  {
   "cell_type": "code",
   "execution_count": 1,
   "metadata": {},
   "outputs": [
    {
     "data": {
      "text/html": [
       "<div>\n",
       "<style scoped>\n",
       "    .dataframe tbody tr th:only-of-type {\n",
       "        vertical-align: middle;\n",
       "    }\n",
       "\n",
       "    .dataframe tbody tr th {\n",
       "        vertical-align: top;\n",
       "    }\n",
       "\n",
       "    .dataframe thead th {\n",
       "        text-align: right;\n",
       "    }\n",
       "</style>\n",
       "<table border=\"1\" class=\"dataframe\">\n",
       "  <thead>\n",
       "    <tr style=\"text-align: right;\">\n",
       "      <th></th>\n",
       "      <th>age</th>\n",
       "      <th>height</th>\n",
       "      <th>weight</th>\n",
       "      <th>ap_hi</th>\n",
       "      <th>ap_lo</th>\n",
       "      <th>cholesterol</th>\n",
       "      <th>gluc</th>\n",
       "      <th>smoke</th>\n",
       "      <th>alco</th>\n",
       "      <th>active</th>\n",
       "      <th>cardio</th>\n",
       "      <th>gender_bin</th>\n",
       "    </tr>\n",
       "    <tr>\n",
       "      <th>id</th>\n",
       "      <th></th>\n",
       "      <th></th>\n",
       "      <th></th>\n",
       "      <th></th>\n",
       "      <th></th>\n",
       "      <th></th>\n",
       "      <th></th>\n",
       "      <th></th>\n",
       "      <th></th>\n",
       "      <th></th>\n",
       "      <th></th>\n",
       "      <th></th>\n",
       "    </tr>\n",
       "  </thead>\n",
       "  <tbody>\n",
       "    <tr>\n",
       "      <th>0</th>\n",
       "      <td>18393</td>\n",
       "      <td>168</td>\n",
       "      <td>62.0</td>\n",
       "      <td>110</td>\n",
       "      <td>80</td>\n",
       "      <td>1</td>\n",
       "      <td>1</td>\n",
       "      <td>0</td>\n",
       "      <td>0</td>\n",
       "      <td>1</td>\n",
       "      <td>0</td>\n",
       "      <td>1</td>\n",
       "    </tr>\n",
       "    <tr>\n",
       "      <th>1</th>\n",
       "      <td>20228</td>\n",
       "      <td>156</td>\n",
       "      <td>85.0</td>\n",
       "      <td>140</td>\n",
       "      <td>90</td>\n",
       "      <td>3</td>\n",
       "      <td>1</td>\n",
       "      <td>0</td>\n",
       "      <td>0</td>\n",
       "      <td>1</td>\n",
       "      <td>1</td>\n",
       "      <td>0</td>\n",
       "    </tr>\n",
       "    <tr>\n",
       "      <th>2</th>\n",
       "      <td>18857</td>\n",
       "      <td>165</td>\n",
       "      <td>64.0</td>\n",
       "      <td>130</td>\n",
       "      <td>70</td>\n",
       "      <td>3</td>\n",
       "      <td>1</td>\n",
       "      <td>0</td>\n",
       "      <td>0</td>\n",
       "      <td>0</td>\n",
       "      <td>1</td>\n",
       "      <td>0</td>\n",
       "    </tr>\n",
       "    <tr>\n",
       "      <th>3</th>\n",
       "      <td>17623</td>\n",
       "      <td>169</td>\n",
       "      <td>82.0</td>\n",
       "      <td>150</td>\n",
       "      <td>100</td>\n",
       "      <td>1</td>\n",
       "      <td>1</td>\n",
       "      <td>0</td>\n",
       "      <td>0</td>\n",
       "      <td>1</td>\n",
       "      <td>1</td>\n",
       "      <td>1</td>\n",
       "    </tr>\n",
       "    <tr>\n",
       "      <th>4</th>\n",
       "      <td>17474</td>\n",
       "      <td>156</td>\n",
       "      <td>56.0</td>\n",
       "      <td>100</td>\n",
       "      <td>60</td>\n",
       "      <td>1</td>\n",
       "      <td>1</td>\n",
       "      <td>0</td>\n",
       "      <td>0</td>\n",
       "      <td>0</td>\n",
       "      <td>0</td>\n",
       "      <td>0</td>\n",
       "    </tr>\n",
       "  </tbody>\n",
       "</table>\n",
       "</div>"
      ],
      "text/plain": [
       "      age  height  weight  ap_hi  ap_lo  cholesterol  gluc  smoke  alco  \\\n",
       "id                                                                        \n",
       "0   18393     168    62.0    110     80            1     1      0     0   \n",
       "1   20228     156    85.0    140     90            3     1      0     0   \n",
       "2   18857     165    64.0    130     70            3     1      0     0   \n",
       "3   17623     169    82.0    150    100            1     1      0     0   \n",
       "4   17474     156    56.0    100     60            1     1      0     0   \n",
       "\n",
       "    active  cardio  gender_bin  \n",
       "id                              \n",
       "0        1       0           1  \n",
       "1        1       1           0  \n",
       "2        0       1           0  \n",
       "3        1       1           1  \n",
       "4        0       0           0  "
      ]
     },
     "execution_count": 1,
     "metadata": {},
     "output_type": "execute_result"
    }
   ],
   "source": [
    "%matplotlib inline\n",
    "import numpy as np\n",
    "import pandas as pd\n",
    "import seaborn as sns\n",
    "import sklearn\n",
    "from matplotlib import pyplot as plt\n",
    "import warnings\n",
    "from sklearn.model_selection import cross_validate, cross_val_score\n",
    "from sklearn.tree import DecisionTreeClassifier\n",
    "from sklearn.metrics import accuracy_score\n",
    "from sklearn.model_selection import GridSearchCV\n",
    "from sklearn.model_selection import train_test_split\n",
    "from itertools import * \n",
    "warnings.filterwarnings('ignore')\n",
    "\n",
    "df = pd.read_csv(\"../data/mlbootcamp5_train.csv\", \n",
    "                 sep=\";\", \n",
    "                 index_col=\"id\")\n",
    "df = df.dropna(subset=['age','gender','height','weight','ap_hi','ap_lo','cholesterol','gluc','smoke','alco','active']).sort_values('id')\n",
    "df_cat = df[(df[\"ap_hi\"] >= 100) &\n",
    "          (df[\"ap_hi\"] <= 200) &\n",
    "          (df[\"ap_lo\"] >= 50) & \n",
    "          (df[\"ap_lo\"] <= 150) &\n",
    "          (df[\"weight\"] >= 40)\n",
    "         ]\n",
    "# Делаем пол бинарным признаком\n",
    "df_cat[\"gender_bin\"] = df_cat[\"gender\"].map({1: 0, 2: 1})\n",
    "df_cat = df_cat.drop([\"gender\"],axis=1)\n",
    "target_cat = df_cat[\"cardio\"]\n",
    "\n",
    "\n",
    "# Делаем one-hot кодирование\n",
    "chol = pd.get_dummies(df_cat[\"cholesterol\"], prefix=\"chol\")\n",
    "gluc = pd.get_dummies(df_cat[\"gluc\"], prefix=\"gluc\")\n",
    "df_one_hot = pd.concat([df_cat, chol, gluc], axis=1)\n",
    "\n",
    "target_data = df_one_hot[\"cardio\"]\n",
    "df_one_hot.head()\n",
    "df_cat.head()"
   ]
  },
  {
   "cell_type": "markdown",
   "metadata": {},
   "source": [
    "## Классы в Python\n",
    "\n",
    "Нередко, возникает необходимость создания объектов с каким-нибудь внутренним поведением и состоянием. Примерами таких объектов являются классификаторы sklearn, массивы numpy и много другое. Такой объект можно объявить с помощью ключевого слова **class**\n",
    "\n",
    "```python\n",
    "class SomeObject:\n",
    "    def __init__(self, depth):\n",
    "        self.a = depth\n",
    "        self.target = None\n",
    "        \n",
    "    def fit(self, data, target):\n",
    "        self.target = data\n",
    "        # magic\n",
    "        return \n",
    "    \n",
    "    def predict(self, data):\n",
    "        return self.target    \n",
    "```\n",
    "\n",
    "После этого в коде можно будет создать экземпляр данного класса\n",
    "```python\n",
    "a = SomeObject(depth=5)\n",
    "a.fit(data, target)\n",
    "a.predict(data)\n",
    "```"
   ]
  },
  {
   "cell_type": "markdown",
   "metadata": {},
   "source": [
    "## Задачи"
   ]
  },
  {
   "cell_type": "markdown",
   "metadata": {},
   "source": [
    "**1. В sklearn на данный момент отсутствует функционал для построения деревьев решений из категориальных данных, поэтому его нужно сделать самостоятельно и проверить его работу. Что нужно сделать:**\n",
    "\n",
    "* __создать классификатор используя только pandas, numpy и scipy. Необходимо его сделать самому, используя исключительно только numpy, pandas и scipy (запрещено использовать sklearn и прочие библиотеки). Напоминаю, что для категориальных данных операция < или > не имеют смысла (использовать только != и ==). Гиперпараметром данного классификатора должна быть максимальная глубина дерева.__\n",
    "* __Проверить работу данного классификатора на наборе (\"gender\", \"cholesterol\", \"gluc\").__\n",
    "* __С помощью кросс-валидации найти оптимальную глубину этого дерева. Для вашего классификатора GridSearchCV не подойдет, придется это сделать также самостоятельно.__\n",
    "* __Нарисовать полученное дерево (я должен понять, как и откуда вы его нарисовали).__\n",
    "\n",
    "Алгоритм работы классификатора:\n",
    " 1. Перебираем все возможные признаки и смотрим либо неопределенность Джини, либо прирост информации. Это даст критерий разбиения в виде \"признак == значение\"\n",
    " 2. Если выборка полученная при разбиении состоит из объектов одного класса (соответсвует нулевой энтропии), то данный лист просто возвращает значение этого класса.\n",
    " 3. В противном случае, образуется новый узел и для него начинаем с пункта 1.\n",
    " 4. Если достигли максимальной глубины, то вместа узла создаем лист, который возвращает самое вероятное значение.\n",
    " \n",
    "__Замечание:__ в этой задаче не нужно использовать onehot-кодирование."
   ]
  },
  {
   "cell_type": "code",
   "execution_count": 2,
   "metadata": {},
   "outputs": [],
   "source": [
    "# A lot of code here"
   ]
  },
  {
   "cell_type": "markdown",
   "metadata": {},
   "source": [
    "**Комментарии:** Ваши комментарии здесь."
   ]
  },
  {
   "cell_type": "markdown",
   "metadata": {},
   "source": [
    "**2. В этой задаче и далее можно использовать sklearn. Выше, данные были приведены либо к бинарным признакам, либо к количественным. Это позволяет воспользоваться классификатором DecisionTreeClassifier. Нужно с помощью кросс-валидации найти оптимальный набор признаков. Показать и объяснить, как данный набор был получен.**"
   ]
  },
  {
   "cell_type": "code",
   "execution_count": 3,
   "metadata": {},
   "outputs": [
    {
     "name": "stdout",
     "output_type": "stream",
     "text": [
      "Wall time: 7min 54s\n"
     ]
    },
    {
     "data": {
      "text/html": [
       "<div>\n",
       "<style scoped>\n",
       "    .dataframe tbody tr th:only-of-type {\n",
       "        vertical-align: middle;\n",
       "    }\n",
       "\n",
       "    .dataframe tbody tr th {\n",
       "        vertical-align: top;\n",
       "    }\n",
       "\n",
       "    .dataframe thead th {\n",
       "        text-align: right;\n",
       "    }\n",
       "</style>\n",
       "<table border=\"1\" class=\"dataframe\">\n",
       "  <thead>\n",
       "    <tr style=\"text-align: right;\">\n",
       "      <th></th>\n",
       "      <th>df_cat_names</th>\n",
       "      <th>cross_val_accuracy</th>\n",
       "    </tr>\n",
       "  </thead>\n",
       "  <tbody>\n",
       "    <tr>\n",
       "      <th>1217</th>\n",
       "      <td>[age, ap_hi, ap_lo, cholesterol, active, gende...</td>\n",
       "      <td>0.726318</td>\n",
       "    </tr>\n",
       "  </tbody>\n",
       "</table>\n",
       "</div>"
      ],
      "text/plain": [
       "                                           df_cat_names  cross_val_accuracy\n",
       "1217  [age, ap_hi, ap_lo, cholesterol, active, gende...            0.726318"
      ]
     },
     "execution_count": 3,
     "metadata": {},
     "output_type": "execute_result"
    }
   ],
   "source": [
    "%%time\n",
    "df_cat_no_cardio = df_cat.drop(['cardio'],axis=1)\n",
    "tree = DecisionTreeClassifier(max_depth=10, random_state=13)\n",
    "df_cross = pd.DataFrame(columns = ['df_cat_names','cross_val_accuracy'])\n",
    "field_list = [i for i in df_cat_no_cardio.columns]\n",
    "for i in range(2,df_cat_no_cardio.shape[1]):\n",
    "    #if i != 2:\n",
    "        #break\n",
    "    for j in combinations(field_list,i):\n",
    "        cv = cross_val_score(tree, \n",
    "                    df_cat[list(j)],\n",
    "                    target_cat,\n",
    "                    n_jobs=-1,\n",
    "                    scoring='accuracy',\n",
    "                    cv=5)\n",
    "        df_cross.loc[len(df_cross.index)] = [list(j), cv.mean()]     \n",
    "df_cross.sort_values('cross_val_accuracy',ascending = False).head(1)"
   ]
  },
  {
   "cell_type": "markdown",
   "metadata": {},
   "source": [
    "**Комментарии:** Ваши комментарии здесь."
   ]
  },
  {
   "cell_type": "markdown",
   "metadata": {},
   "source": [
    "**3. Для набора признаков полученных в задаче 3, с помощью кросс-валидации найти оптимальный набор гиперпараметров.**"
   ]
  },
  {
   "cell_type": "code",
   "execution_count": 27,
   "metadata": {},
   "outputs": [
    {
     "name": "stdout",
     "output_type": "stream",
     "text": [
      "['age', 'ap_hi', 'ap_lo', 'cholesterol', 'active', 'gender_bin']\n",
      "{'max_depth': 7, 'max_features': 5, 'min_samples_leaf': 16} 0.7299145006246287\n",
      "Wall time: 20.4 s\n"
     ]
    }
   ],
   "source": [
    "%%time\n",
    "#max_features\n",
    "df_max_features = df_cross.sort_values('cross_val_accuracy',ascending = False).head(1).values[0][0]#TUPA_KEK\n",
    "print(df_max_features)\n",
    "train, test, target_train, target_test = train_test_split(\n",
    "    df_cat[df_max_features], target_cat, \n",
    "    test_size=0.3\n",
    ")\n",
    "\n",
    "#Finding the optimal values of \"max_depth\" and \"min_samples_leaf\" by GridSearchCV\n",
    "params = {\n",
    "    'max_depth': np.arange(2, 20, 1),\n",
    "    'min_samples_leaf': np.arange(2, 20, 2),\n",
    "    'max_features' : np.arange(1, len(df_max_features), 1)\n",
    "}\n",
    "tree_hyper = DecisionTreeClassifier(random_state=13)\n",
    "grid = GridSearchCV(\n",
    "    tree, params, scoring='accuracy',n_jobs=-1,\n",
    "    cv=5,\n",
    ")\n",
    "grid.fit(train, target_train);\n",
    "print(grid.best_params_,grid.best_score_)"
   ]
  },
  {
   "cell_type": "markdown",
   "metadata": {},
   "source": [
    "**Комментарии:** Ваши комментарии здесь."
   ]
  },
  {
   "cell_type": "markdown",
   "metadata": {},
   "source": [
    "**4. Сравнить с помощью кросс-валидации классификатор \"наивный байес\" и \"решающее дерево\" на количественных признаках. Показать, какой из них лучше.**"
   ]
  },
  {
   "cell_type": "code",
   "execution_count": 29,
   "metadata": {},
   "outputs": [
    {
     "name": "stdout",
     "output_type": "stream",
     "text": [
      "Точность(DecisionTree_best) = 0.729915\n",
      "Точность(gbn) = 0.717473\n",
      "[0.71740741 0.72014815 0.71703704 0.7202015  0.7125713 ] 0.7174730781155256\n"
     ]
    }
   ],
   "source": [
    "from sklearn.naive_bayes import GaussianNB\n",
    "\n",
    "print(\"Точность(DecisionTree_best) = %f\" % grid.best_score_)\n",
    "\n",
    "train_4 = df_cat[df_max_features]\n",
    "target_4 = target_cat\n",
    "\n",
    "gnb = GaussianNB()\n",
    "model = gnb.fit(train_4, target_4)\n",
    "gprob = model.predict_proba(train_4)\n",
    "gpred = model.predict(train_4)\n",
    "acc = accuracy_score(target_4, gpred)\n",
    "cv_gbn = cross_val_score(model, \n",
    "                    train_4,\n",
    "                    target_4,\n",
    "                    n_jobs=-1,\n",
    "                    scoring='accuracy',\n",
    "                    cv=5)\n",
    "print(\"Точность(gbn) = %f\" % acc)\n",
    "print (cv_gbn, cv_gbn.mean())\n",
    "\n",
    "#print(df_cat.shape[0],\n",
    "     #(target_5 == predict_num).sum() / df_cat.shape[0])\n"
   ]
  },
  {
   "cell_type": "markdown",
   "metadata": {},
   "source": [
    "**Комментарии:** Ваши комментарии здесь."
   ]
  }
 ],
 "metadata": {
  "kernelspec": {
   "display_name": "Python 3",
   "language": "python",
   "name": "python3"
  },
  "language_info": {
   "codemirror_mode": {
    "name": "ipython",
    "version": 3
   },
   "file_extension": ".py",
   "mimetype": "text/x-python",
   "name": "python",
   "nbconvert_exporter": "python",
   "pygments_lexer": "ipython3",
   "version": "3.8.5"
  }
 },
 "nbformat": 4,
 "nbformat_minor": 4
}
